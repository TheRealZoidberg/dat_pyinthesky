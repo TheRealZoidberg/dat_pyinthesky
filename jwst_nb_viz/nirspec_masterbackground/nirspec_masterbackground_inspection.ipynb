{
 "cells": [
  {
   "cell_type": "markdown",
   "metadata": {},
   "source": [
    "# Inspect and tweak NIRSpec master background\n",
    "\n",
    "The goal of this notebook is to provide interactive widgets to users to help them evaluate whether their NIRSpec master background subtraction is any good. Possible problems include:\n",
    "\n",
    " - The background is varying spatially across the detector (so a single average isn't good)\n",
    " - The wavelengths aren't lining up\n",
    " - There are some sources in some of the background aperture\n",
    " - There is some contamination from open shutters affecting background apertures\n",
    " \n",
    "Tools might include:\n",
    "\n",
    " 1. A widget to let the user step through individual background spectra (1D). \n",
    " 2. Statistics on the individual background spectra to identify outliers\n",
    "     1. basic stats could be in an array, to allow numpy tools to work on them\n",
    " 3. Visualization of mean (over $\\lambda$) background (or background over a wavelength region) vs. position on the detector\n",
    " 4. 2d view where each row (or tile of identical rows for visualization) is a single background 1D spectrum and the columns are just ID numbers. Outliers will be very easy to see in this representation. A widget would allow the user to get the IDs or simply mark the outliers for rejection before re-estimating the master background.\n",
    " 5. A tool to make customized master backgrounds associating certain background apertures with certain sources.\n",
    " \n",
    "Not sure about architecture, but it might be simplest for the user if all the background tools are in one package. Possibly as a class. I'll pretend it's that way. Then the calls to the steps above might be one-liners after reading the data into the class:\n",
    "\n",
    "```\n",
    "from jwsttools import MOSMasterBackground\n",
    "\n",
    "bkgtool = MOSMasterBackground(filename) # or MOSMasterBackground(x1d or x2d datamodel)\n",
    "bkgtool.plot1Dwidget() # For item (1)\n",
    "```\n",
    "\n",
    "We'll probably want a fair amount of metadata associated with each background spectrum: some sort of ID, positions in various coordinates, exposure time, time of year, price of eggs in China...\n"
   ]
  },
  {
   "cell_type": "code",
   "execution_count": 50,
   "metadata": {},
   "outputs": [],
   "source": [
    "from jwst import datamodels\n",
    "from astropy.io import fits\n",
    "import numpy as np\n",
    "import specutils\n",
    "from specutils import Spectrum1D, SpectrumList\n",
    "from astropy import nddata\n",
    "import astropy.units as u\n",
    "from scipy import interpolate\n",
    "import pandas as pd\n",
    "from astropy.table import Table"
   ]
  },
  {
   "cell_type": "code",
   "execution_count": 51,
   "metadata": {},
   "outputs": [],
   "source": [
    "import matplotlib.pyplot as plt\n",
    "%matplotlib inline"
   ]
  },
  {
   "cell_type": "markdown",
   "metadata": {},
   "source": [
    "## Which data set to use?\n",
    "\n",
    "The one in box only has a few slits, so maybe isn't the best example:\n",
    "\n",
    "  - https://stsci.box.com/shared/static/v1h9jpg24rusalpui2jpqyldlrqjmv7k.fits\n",
    "\n",
    "The following has 71 slits:\n",
    "\n",
    "  - F170LP-G235M_MOS_observation-6-c0e0_001_DN_NRS1_mod_updatedHDR_x1d.fits\n",
    "  - You can find on box at https://stsci.box.com/v/x1dhackdayfeb18\n",
    "  \n",
    "No guarantee that `x1d` file format is current though (it almost certainly is not -- opening it fails with the development version of `jwst.datamodels`)."
   ]
  },
  {
   "cell_type": "code",
   "execution_count": 52,
   "metadata": {},
   "outputs": [],
   "source": [
    "#filename = 'https://stsci.box.com/v/x1dhackdayfeb18'\n",
    "filename = 'F170LP-G235M_MOS_observation-6-c0e0_001_DN_NRS1_mod_updatedHDR_x1d.fits'\n",
    "hdu = fits.open(filename)\n",
    "#hdu.info()"
   ]
  },
  {
   "cell_type": "markdown",
   "metadata": {},
   "source": [
    "Read it into a list of Spectrum1D objects"
   ]
  },
  {
   "cell_type": "code",
   "execution_count": 53,
   "metadata": {},
   "outputs": [],
   "source": [
    "spectrumlist = SpectrumList.read('F170LP-G235M_MOS_observation-6-c0e0_001_DN_NRS1_mod_updatedHDR_x1d.fits',format='JWST')"
   ]
  },
  {
   "cell_type": "markdown",
   "metadata": {},
   "source": [
    "Create a little class to store store the spectrum list and the means, a method to interpolate to a common wavelength grid, and a method to make a 2d stack."
   ]
  },
  {
   "cell_type": "code",
   "execution_count": 54,
   "metadata": {},
   "outputs": [],
   "source": [
    "class MOSMasterBackground:\n",
    "\n",
    "    def __init__(self,spectrumlist):\n",
    "        self.speclist = spectrumlist\n",
    "        self.meanbkg = np.array([s.flux.value.mean() for s in self.speclist]) # Remove units for the moment\n",
    "        self.create_interpolators()\n",
    "    \n",
    "    def create_interpolators(self):\n",
    "        self.interpolator = []\n",
    "        for s in self.speclist:\n",
    "            self.interpolator += [interpolate.interp1d(s.spectral_axis.value,s.flux,\n",
    "                                                       bounds_error=False,fill_value=(0.,0.))]\n",
    "    def twod_stack(self,wavelengths):\n",
    "        _stack = np.zeros((len(self.speclist),len(wavelengths)))\n",
    "        for row,interp in enumerate(self.interpolator):\n",
    "            _stack[row,:] = interp(wavelengths)\n",
    "        self.stack = np.repeat(_stack,10,axis=0) # Repeat a few times for visualization"
   ]
  },
  {
   "cell_type": "code",
   "execution_count": 55,
   "metadata": {},
   "outputs": [],
   "source": [
    "bkg = MOSMasterBackground(spectrumlist)"
   ]
  },
  {
   "cell_type": "markdown",
   "metadata": {},
   "source": [
    "## Background 1D inspection widget\n",
    "This next step would be a widget to allow the user to scrub through the background spectra one by one:\n",
    "\n",
    "```bkgtool.plot1Dwidget()```"
   ]
  },
  {
   "cell_type": "code",
   "execution_count": 56,
   "metadata": {},
   "outputs": [
    {
     "data": {
      "text/plain": [
       "[<matplotlib.lines.Line2D at 0xb1f4476a0>]"
      ]
     },
     "execution_count": 56,
     "metadata": {},
     "output_type": "execute_result"
    },
    {
     "data": {
      "image/png": "[encoded data removed]",
      "text/plain": [
       "<Figure size 432x288 with 1 Axes>"
      ]
     },
     "metadata": {
      "needs_background": "light"
     },
     "output_type": "display_data"
    }
   ],
   "source": [
    "plt.plot(bkg.speclist[4].wavelength,bkg.speclist[4].flux)"
   ]
  },
  {
   "cell_type": "markdown",
   "metadata": {},
   "source": [
    "## Statistics on the individual background spectra to identify outliers\n",
    "Glue linking would let you highight outliers here on a linked display, e.g. of the apertures projected on the sky (a NIRCam image), or the 2D stack of background spectra mentioned in tool 4."
   ]
  },
  {
   "cell_type": "code",
   "execution_count": 57,
   "metadata": {},
   "outputs": [
    {
     "data": {
      "image/png": "[encoded data removed]",
      "text/plain": [
       "<Figure size 432x288 with 1 Axes>"
      ]
     },
     "metadata": {
      "needs_background": "light"
     },
     "output_type": "display_data"
    }
   ],
   "source": [
    "n,bins,patches = plt.hist(bkg.meanbkg)"
   ]
  },
  {
   "cell_type": "markdown",
   "metadata": {},
   "source": [
    "The advantage of having some precomputed stuff is to make it easy to use numpy to do selection and filtering, e.g. -- finding the 5 entries with the highest background."
   ]
  },
  {
   "cell_type": "code",
   "execution_count": 58,
   "metadata": {},
   "outputs": [
    {
     "data": {
      "text/plain": [
       "array([59, 20, 45, 51, 25])"
      ]
     },
     "execution_count": 58,
     "metadata": {},
     "output_type": "execute_result"
    }
   ],
   "source": [
    "high5 = np.argsort(bkg.meanbkg)[-5:]\n",
    "high5"
   ]
  },
  {
   "cell_type": "markdown",
   "metadata": {},
   "source": [
    "## 2D stacked display\n",
    "Given the aspect ratio, best if this is expandable separately in x and y axes. Expand enough to allow cursor selection of the outliers."
   ]
  },
  {
   "cell_type": "code",
   "execution_count": 59,
   "metadata": {},
   "outputs": [],
   "source": [
    "wavelengths = np.linspace(1.65,2.0,1000)\n",
    "bkg.twod_stack(wavelengths)"
   ]
  },
  {
   "cell_type": "code",
   "execution_count": 60,
   "metadata": {},
   "outputs": [
    {
     "data": {
      "text/plain": [
       "<matplotlib.image.AxesImage at 0xb236c2ef0>"
      ]
     },
     "execution_count": 60,
     "metadata": {},
     "output_type": "execute_result"
    },
    {
     "data": {
      "image/png": "[encoded data removed]",
      "text/plain": [
       "<Figure size 432x288 with 1 Axes>"
      ]
     },
     "metadata": {
      "needs_background": "light"
     },
     "output_type": "display_data"
    }
   ],
   "source": [
    "plt.imshow(bkg.stack)"
   ]
  },
  {
   "cell_type": "markdown",
   "metadata": {},
   "source": [
    "## Plot mean background vs position on the detector\n",
    "Some sort of heat map?"
   ]
  },
  {
   "cell_type": "code",
   "execution_count": 61,
   "metadata": {},
   "outputs": [],
   "source": [
    "ra = np.array([h.header['SLIT_RA'] for h in hdu[1:-1]])\n",
    "dec = np.array([h.header['SLIT_DEC'] for h in hdu[1:-1]])"
   ]
  },
  {
   "cell_type": "code",
   "execution_count": 62,
   "metadata": {},
   "outputs": [
    {
     "data": {
      "text/plain": [
       "<matplotlib.collections.PathCollection at 0xb1f480b00>"
      ]
     },
     "execution_count": 62,
     "metadata": {},
     "output_type": "execute_result"
    },
    {
     "data": {
      "image/png": "[encoded data removed]",
      "text/plain": [
       "<Figure size 432x288 with 1 Axes>"
      ]
     },
     "metadata": {
      "needs_background": "light"
     },
     "output_type": "display_data"
    }
   ],
   "source": [
    "plt.scatter(ra,dec,s=bkg.meanbkg,c=bkg.meanbkg)"
   ]
  }
 ],
 "metadata": {
  "kernelspec": {
   "display_name": "Python 3",
   "language": "python",
   "name": "python3"
  },
  "language_info": {
   "codemirror_mode": {
    "name": "ipython",
    "version": 3
   },
   "file_extension": ".py",
   "mimetype": "text/x-python",
   "name": "python",
   "nbconvert_exporter": "python",
   "pygments_lexer": "ipython3",
   "version": "3.6.8"
  }
 },
 "nbformat": 4,
 "nbformat_minor": 2
}
