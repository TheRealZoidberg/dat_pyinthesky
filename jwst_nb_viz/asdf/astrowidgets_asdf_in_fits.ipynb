{
 "cells": [
  {
   "cell_type": "markdown",
   "metadata": {},
   "source": [
    "# Reading JWST ASDF-in-FITS with `astrowidgets`\n",
    "\n",
    "This is a proof-of-concept using `astrowidgets` to read in JWST ASDF-in-FITS data. As it is using the dev versions of several different packages, I cannot really put it anywhere but in `dat_pyinthesky` repository for now.\n",
    "\n",
    "Relevant specs used in testing:\n",
    "\n",
    "* Linux (64-bit RHEL 7)\n",
    "* Firefox 60.5.1esr (64-bit)\n",
    "* Python 3.7.1\n",
    "* `asdf` 2.3.1\n",
    "* `astropy` 3.2.dev24004\n",
    "* `astrowidgets` 0.1.0.dev111\n",
    "* `ginga` 3.0.dev2166\n",
    "* `gwcs` 0.10.0\n",
    "* `ipython` 6.5.0\n",
    "* `ipython_genutils` 0.2.0\n",
    "* `jsonschema` 2.6.0\n",
    "* `jupyter` 1.0.0\n",
    "* `jupyter_client` 5.2.3\n",
    "* `jupyter_console` 5.2.0\n",
    "* `jupyter_core` 4.4.0\n",
    "* `jwst` 0.13.1a0.dev67+g0d4a64da\n",
    "* `notebook` 5.7.2\n",
    "* `numpy` 1.15.4\n",
    "* `requests` 2.20.0\n",
    "\n",
    "**TODO:** Figure out how to hook up the custom IO handler with standalone Ginga application. The IO handler would ideally live in `stginga` in the future."
   ]
  },
  {
   "cell_type": "code",
   "execution_count": null,
   "metadata": {},
   "outputs": [],
   "source": [
    "import requests\n",
    "\n",
    "from astropy.io import fits\n",
    "\n",
    "from astrowidgets import ImageWidget\n",
    "\n",
    "from ginga.AstroImage import AstroImage\n",
    "from ginga.misc.log import get_logger\n",
    "from ginga.util import wcsmod\n",
    "from ginga.util.io_asdf import ASDFFileHandler\n",
    "\n",
    "from jwst import datamodels"
   ]
  },
  {
   "cell_type": "markdown",
   "metadata": {},
   "source": [
    "We need to ask Ginga to explicitly use its `astropy_ape14` WCS interface. This is unnecessary if every user sets it in their `~/.ginga/general.cfg` but that is not always guaranteed."
   ]
  },
  {
   "cell_type": "code",
   "execution_count": null,
   "metadata": {},
   "outputs": [],
   "source": [
    "wcsmod.use('astropy_ape14')"
   ]
  },
  {
   "cell_type": "markdown",
   "metadata": {},
   "source": [
    "Now we define a generic function to download data file from Box to working directory locally. This function is not needed if you use an existing local copy of data file."
   ]
  },
  {
   "cell_type": "code",
   "execution_count": null,
   "metadata": {},
   "outputs": [],
   "source": [
    "def download_file(url):\n",
    "    \"\"\"Download into the current working directory the\n",
    "    file from Box given the direct URL.\n",
    "    \n",
    "    Parameters\n",
    "    ----------\n",
    "    url : str\n",
    "        URL to the file to be downloaded\n",
    "        \n",
    "    Returns\n",
    "    -------\n",
    "    download_filename : str\n",
    "        Name of the downloaded file\n",
    "    \"\"\"\n",
    "    response = requests.get(url, stream=True)\n",
    "    if response.status_code != 200:\n",
    "        raise RuntimeError(\"Wrong URL - {}\".format(url))\n",
    "    download_filename = response.headers['Content-Disposition'].split('\"')[1]\n",
    "    with open(download_filename, 'wb') as f:\n",
    "        for chunk in response.iter_content(chunk_size=1024):\n",
    "            if chunk:\n",
    "                f.write(chunk)\n",
    "    return download_filename"
   ]
  },
  {
   "cell_type": "markdown",
   "metadata": {},
   "source": [
    "We use our `download_file()` function to download a simulated NIRCam image from STScI Box. This might take several seconds, depending on your bandwidth."
   ]
  },
  {
   "cell_type": "code",
   "execution_count": null,
   "metadata": {},
   "outputs": [],
   "source": [
    "url = 'https://stsci.box.com/shared/static/ofud7q1b8cogdm494iv9imvse8bk0uaj.fits'\n",
    "filename = download_file(url)"
   ]
  },
  {
   "cell_type": "code",
   "execution_count": null,
   "metadata": {},
   "outputs": [],
   "source": [
    "print(filename)"
   ]
  },
  {
   "cell_type": "code",
   "execution_count": null,
   "metadata": {},
   "outputs": [],
   "source": [
    "with fits.open(filename) as pf:\n",
    "    pf.info()"
   ]
  },
  {
   "cell_type": "markdown",
   "metadata": {},
   "source": [
    "Next, we define a new `JWSTASDFHandler` class so Ginga knows how to read JWST ASDF-in-FITS file. In particular, this reads the data directly from the ASDF extension using `jwst.datamodels` and extracts the corresponding GWCS object.\n",
    "\n",
    "**TODO:** https://github.com/ejeschke/ginga/issues/762"
   ]
  },
  {
   "cell_type": "code",
   "execution_count": null,
   "metadata": {},
   "outputs": [],
   "source": [
    "class JWSTASDFHandler(ASDFFileHandler):\n",
    "    factory_dict = {}\n",
    "\n",
    "    @classmethod\n",
    "    def register_type(cls, name, klass):\n",
    "        cls.factory_dict[name.lower()] = klass\n",
    "        \n",
    "    def load_file(self, filespec, dstobj=None, **kwdargs):\n",
    "        with datamodels.open(filespec) as dm:\n",
    "            dstobj.setup_data(dm.data)\n",
    "            dstobj.wcs.wcs = dm.meta.wcs  # Not dm.wcs!\n",
    "            dstobj.wcs.coordsys = dm.meta.wcs.output_frame.name\n",
    "        \n",
    "        return dstobj"
   ]
  },
  {
   "cell_type": "markdown",
   "metadata": {},
   "source": [
    "We register our new file handler with Ginga's `AstroImage` class. As Ginga is primarily an image viewer, we will not concern ourselves with spectrocopic data models."
   ]
  },
  {
   "cell_type": "code",
   "execution_count": null,
   "metadata": {},
   "outputs": [],
   "source": [
    "AstroImage.set_ioClass(JWSTASDFHandler)"
   ]
  },
  {
   "cell_type": "markdown",
   "metadata": {},
   "source": [
    "Then, we customize our image widget by subclassing `ImageWidget` and adding a method to load the file.\n",
    "\n",
    "**TODO:** We can even use `ImageWidget` if https://github.com/astropy/astrowidgets/pull/78 is merged, rendering this subclassing completely unnecessary."
   ]
  },
  {
   "cell_type": "code",
   "execution_count": null,
   "metadata": {},
   "outputs": [],
   "source": [
    "class JWSTImageWidget(ImageWidget):  \n",
    "    def load_file(self, filename):\n",
    "        image = AstroImage(logger=self.logger)\n",
    "        image.load_file(filename)\n",
    "        self._viewer.set_image(image)"
   ]
  },
  {
   "cell_type": "markdown",
   "metadata": {},
   "source": [
    "We define a Ginga logger to go with our image widget."
   ]
  },
  {
   "cell_type": "code",
   "execution_count": null,
   "metadata": {},
   "outputs": [],
   "source": [
    "logger = get_logger('my viewer', log_stderr=True, log_file=None, level=30)"
   ]
  },
  {
   "cell_type": "markdown",
   "metadata": {},
   "source": [
    "We create the widget instance. This would be the thing that you interface with for widget magic."
   ]
  },
  {
   "cell_type": "code",
   "execution_count": null,
   "metadata": {},
   "outputs": [],
   "source": [
    "w = JWSTImageWidget(logger=logger)"
   ]
  },
  {
   "cell_type": "markdown",
   "metadata": {},
   "source": [
    "We load our JWST data file into our widget instance."
   ]
  },
  {
   "cell_type": "code",
   "execution_count": null,
   "metadata": {},
   "outputs": [],
   "source": [
    "w.load_file(filename)"
   ]
  },
  {
   "cell_type": "markdown",
   "metadata": {},
   "source": [
    "This would display the widget. When you mouse over the pixels, you would see coordinates information (both pixels and sky) change. See https://astrowidgets.readthedocs.io/en/latest/ for documentation on `astrowidgets`."
   ]
  },
  {
   "cell_type": "code",
   "execution_count": null,
   "metadata": {},
   "outputs": [],
   "source": [
    "w"
   ]
  }
 ],
 "metadata": {
  "kernelspec": {
   "display_name": "Python 3",
   "language": "python",
   "name": "python3"
  },
  "language_info": {
   "codemirror_mode": {
    "name": "ipython",
    "version": 3
   },
   "file_extension": ".py",
   "mimetype": "text/x-python",
   "name": "python",
   "nbconvert_exporter": "python",
   "pygments_lexer": "ipython3",
   "version": "3.7.1"
  }
 },
 "nbformat": 4,
 "nbformat_minor": 2
}
