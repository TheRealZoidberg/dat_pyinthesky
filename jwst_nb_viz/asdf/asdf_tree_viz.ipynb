{
 "cells": [
  {
   "cell_type": "markdown",
   "metadata": {},
   "source": [
    "# ASDF Tree Visualization Notebook"
   ]
  },
  {
   "cell_type": "code",
   "execution_count": 1,
   "metadata": {},
   "outputs": [],
   "source": [
    "# Fill in the path to your data file here\n",
    "data_path = '../../../data/jw10001001001_01101_00001_mirifushort_s3d_ref.fits'"
   ]
  },
  {
   "cell_type": "code",
   "execution_count": 2,
   "metadata": {},
   "outputs": [],
   "source": [
    "import asdf\n",
    "import gwcs"
   ]
  },
  {
   "cell_type": "code",
   "execution_count": 3,
   "metadata": {},
   "outputs": [
    {
     "name": "stderr",
     "output_type": "stream",
     "text": [
      "/data/dan/stsci/asdf/asdf/extension.py:211: AsdfDeprecationWarning: The module asdf.asdftypes has been deprecated and will be removed in 3.0. Use asdf.types instead. (from gwcs.extension.GWCSExtension)\n",
      "  AsdfDeprecationWarning)\n",
      "/data/dan/stsci/asdf/asdf/asdf.py:183: UserWarning: File '../../../data/jw10001001001_01101_00001_mirifushort_s3d_ref.fits' was created with extension 'jwst.transforms.jwextension.JWSTExtension', which is not currently installed (from package jwst-0.13.0a0.dev65+gd1647876)\n",
      "  warnings.warn(fmt_msg)\n"
     ]
    },
    {
     "data": {
      "text/plain": [
       "{'asdf_library': {'author': 'Space Telescope Science Institute',\n",
       "  'homepage': 'http://github.com/spacetelescope/asdf',\n",
       "  'name': 'asdf',\n",
       "  'version': '2.2.0.dev1530'},\n",
       " 'history': {'extensions': [<asdf.tags.core.ExtensionMetadata at 0x7fc1c7b85828>,\n",
       "   <asdf.tags.core.ExtensionMetadata at 0x7fc1c00914e0>,\n",
       "   <asdf.tags.core.ExtensionMetadata at 0x7fc1c001dcc0>,\n",
       "   <asdf.tags.core.ExtensionMetadata at 0x7fc1c00245c0>,\n",
       "   <asdf.tags.core.ExtensionMetadata at 0x7fc1c0040940>]},\n",
       " 'data': <array (unloaded) shape: [4149, 42, 44] dtype: >f4>,\n",
       " 'dq': <array (unloaded) shape: [4149, 42, 44] dtype: >u4>,\n",
       " 'err': <array (unloaded) shape: [4149, 42, 44] dtype: >f4>,\n",
       " 'meta': {'aperture': {'name': '#TODO', 'position_angle': -999.0},\n",
       "  'asn': {'pool_name': 'singleton', 'table_name': 'singleton'},\n",
       "  'background': {},\n",
       "  'bunit_data': 'mJy/arcsec^2',\n",
       "  'bunit_err': 'mJy/arcsec^2',\n",
       "  'cal_step': {'assign_wcs': 'COMPLETE',\n",
       "   'cube_build': 'COMPLETE',\n",
       "   'dark_sub': 'COMPLETE',\n",
       "   'dq_init': 'COMPLETE',\n",
       "   'flat_field': 'COMPLETE',\n",
       "   'fringe': 'COMPLETE',\n",
       "   'jump': 'COMPLETE',\n",
       "   'lastframe': 'COMPLETE',\n",
       "   'linearity': 'COMPLETE',\n",
       "   'persistence': 'SKIPPED',\n",
       "   'photom': 'COMPLETE',\n",
       "   'ramp_fit': 'COMPLETE',\n",
       "   'refpix': 'COMPLETE',\n",
       "   'rscd': 'COMPLETE',\n",
       "   'saturation': 'COMPLETE',\n",
       "   'srctype': 'COMPLETE',\n",
       "   'straylight': 'COMPLETE'},\n",
       "  'calibration_software_revision': 'd1647876',\n",
       "  'calibration_software_version': '0.13.0a.dev65+gd1647876',\n",
       "  'coordinates': {'reference_frame': 'ICRS'},\n",
       "  'data_processing_software_version': '0.1.1',\n",
       "  'date': '2018-10-19T20:32:40.978',\n",
       "  'dither': {'pattern_size': 0.0,\n",
       "   'position_number': 1,\n",
       "   'primary_type': 'NONE',\n",
       "   'starting_point': 1,\n",
       "   'subpixel_number': 1,\n",
       "   'total_points': 1},\n",
       "  'ephemeris': {'spatial_x': 0.0,\n",
       "   'spatial_y': 0.0,\n",
       "   'spatial_z': 0.0,\n",
       "   'time': 0.0,\n",
       "   'velocity_x': 0.0,\n",
       "   'velocity_y': 0.0,\n",
       "   'velocity_z': 0.0},\n",
       "  'exposure': {'count': 1,\n",
       "   'data_problem': False,\n",
       "   'duration': -1.0,\n",
       "   'end_time': 57407.93591761574,\n",
       "   'exposure_time': 191.41632,\n",
       "   'frame_time': 21.26848,\n",
       "   'group_time': 21.26848,\n",
       "   'groupgap': 0,\n",
       "   'integration_time': 191.41632,\n",
       "   'mid_time': 57407.93345271991,\n",
       "   'nframes': 1,\n",
       "   'ngroups': 10,\n",
       "   'nints': 1,\n",
       "   'nresets_at_start': 1,\n",
       "   'nresets_between_ints': 1,\n",
       "   'nsamples': 10,\n",
       "   'readpatt': 'SLOW',\n",
       "   'sample_time': 10,\n",
       "   'start_time': 57407.93345271991,\n",
       "   'type': 'MIR_MRS',\n",
       "   'zero_frame': False},\n",
       "  'filename': 'jw10001001001_01101_00001_mirifushort_s3d.fits',\n",
       "  'filetype': 'UNCALIBRATED',\n",
       "  'guidestar': {'gs_ctd_x': 0.0,\n",
       "   'gs_ctd_y': 0.0,\n",
       "   'gs_dec': 0.0,\n",
       "   'gs_id': '1',\n",
       "   'gs_jitter_rms': 0.0,\n",
       "   'gs_mag': 0.0,\n",
       "   'gs_order': 1,\n",
       "   'gs_pcs_mode': 'TRACK',\n",
       "   'gs_ra': 0.0,\n",
       "   'gs_start_time': '0.0',\n",
       "   'gs_stop_time': '0.0',\n",
       "   'gs_udec': 0.0,\n",
       "   'gs_umag': 0.0,\n",
       "   'gs_ura': 0.0},\n",
       "  'ifu': {'dq_extension': 'DQ',\n",
       "   'error_extension': 'ERR',\n",
       "   'error_type': 'ERR',\n",
       "   'flux_extension': 'SCI',\n",
       "   'roi_wave': 0.0012285420671105385,\n",
       "   'weight_power': 2.0,\n",
       "   'weighting': 'msm'},\n",
       "  'instrument': {'band': 'SHORT',\n",
       "   'ccc_state': 'OPEN',\n",
       "   'channel': '12',\n",
       "   'coronagraph': 'NONE',\n",
       "   'detector': 'MIRIFUSHORT',\n",
       "   'filter': 'F560W',\n",
       "   'lamp_state': '',\n",
       "   'name': 'MIRI'},\n",
       "  'model_type': 'IFUCubeModel',\n",
       "  'observation': {'activity_id': '01',\n",
       "   'date': '2016-01-20',\n",
       "   'exposure_number': '00001',\n",
       "   'obs_id': 'M103-Q3-SHORT-6020222141',\n",
       "   'observation_label': '#TODO',\n",
       "   'observation_number': '001',\n",
       "   'program_number': '10001',\n",
       "   'sequence_id': '1',\n",
       "   'template': 'N/A',\n",
       "   'time': '22:24:10.315',\n",
       "   'visit_group': '01',\n",
       "   'visit_id': '',\n",
       "   'visit_number': '001'},\n",
       "  'origin': 'STScI',\n",
       "  'photometry': {'conversion_megajanskys': 42.5,\n",
       "   'conversion_microjanskys': 998.938275},\n",
       "  'pointing': {'dec_v1': 0.0, 'pa_v3': 0.0, 'ra_v1': 0.0},\n",
       "  'program': {'category': 'N/A',\n",
       "   'continuation_id': 0,\n",
       "   'pi_name': 'UNKNOWN',\n",
       "   'science_category': 'N/A',\n",
       "   'sub_category': 'N/A',\n",
       "   'title': 'N/A'},\n",
       "  'ref_file': {'area': {'name': 'N/A'},\n",
       "   'camera': {'name': 'N/A'},\n",
       "   'collimator': {'name': 'N/A'},\n",
       "   'crds': {'context_used': 'jwst_0493.pmap', 'sw_version': '7.2.8'},\n",
       "   'cubepar': {'name': 'crds://jwst_miri_cubepar_0002.fits'},\n",
       "   'dark': {'name': 'crds://jwst_miri_dark_0044.fits'},\n",
       "   'disperser': {'name': 'N/A'},\n",
       "   'distortion': {'name': 'crds://jwst_miri_distortion_0021.asdf'},\n",
       "   'filteroffset': {'name': 'N/A'},\n",
       "   'flat': {'name': 'crds://jwst_miri_flat_0248.fits'},\n",
       "   'fore': {'name': 'N/A'},\n",
       "   'fpa': {'name': 'N/A'},\n",
       "   'fringe': {'name': 'crds://jwst_miri_fringe_0031.fits'},\n",
       "   'gain': {'name': 'crds://jwst_miri_gain_0007.fits'},\n",
       "   'ifufore': {'name': 'N/A'},\n",
       "   'ifupost': {'name': 'N/A'},\n",
       "   'ifuslicer': {'name': 'N/A'},\n",
       "   'linearity': {'name': 'crds://jwst_miri_linearity_0023.fits'},\n",
       "   'mask': {'name': 'crds://jwst_miri_mask_0020.fits'},\n",
       "   'msa': {'name': 'N/A'},\n",
       "   'ote': {'name': 'N/A'},\n",
       "   'photom': {'name': 'crds://jwst_miri_photom_0020.fits'},\n",
       "   'readnoise': {'name': 'crds://jwst_miri_readnoise_0037.fits'},\n",
       "   'regions': {'name': 'crds://jwst_miri_regions_0016.asdf'},\n",
       "   'rscd': {'name': 'crds://jwst_miri_rscd_0002.fits'},\n",
       "   'saturation': {'name': 'crds://jwst_miri_saturation_0020.fits'},\n",
       "   'specwcs': {'name': 'crds://jwst_miri_specwcs_0015.asdf'},\n",
       "   'wavelengthrange': {'name': 'crds://jwst_miri_wavelengthrange_0003.asdf'}},\n",
       "  'subarray': {'fastaxis': 1,\n",
       "   'name': 'FULL',\n",
       "   'slowaxis': 2,\n",
       "   'xsize': 1032,\n",
       "   'xstart': 1,\n",
       "   'ysize': 1024,\n",
       "   'ystart': 1},\n",
       "  'target': {'catalog_name': 'NGC 104',\n",
       "   'dec': 0.0,\n",
       "   'dec_uncertainty': 0.0,\n",
       "   'proposer_dec': 0.0,\n",
       "   'proposer_name': 'UNKNOWN',\n",
       "   'proposer_ra': 0.0,\n",
       "   'ra': 0.0,\n",
       "   'ra_uncertainty': 0.0,\n",
       "   'source_type': 'EXTENDED',\n",
       "   'type': 'FIXED'},\n",
       "  'telescope': 'JWST',\n",
       "  'time': {'barycentric_correction': 0.0,\n",
       "   'barycentric_expend': 0.0,\n",
       "   'barycentric_expmid': 0.0,\n",
       "   'barycentric_expstart': 0.0,\n",
       "   'heliocentric_correction': 0.0,\n",
       "   'heliocentric_expend': 0.0,\n",
       "   'heliocentric_expmid': 0.0,\n",
       "   'heliocentric_expstart': 0.0},\n",
       "  'velocity_aberration': {'dec_offset': 0.0,\n",
       "   'ra_offset': 0.0,\n",
       "   'scale_factor': 1.0},\n",
       "  'visit': {'internal_target': True,\n",
       "   'start_time': '2016-01-20T22:35:22',\n",
       "   'too_visit': False,\n",
       "   'total_exposures': 1,\n",
       "   'type': 'GENERIC'},\n",
       "  'wcs': <WCS(output_frame=world, input_frame=None, forward_transform=Model: CompoundModel6\n",
       "  Inputs: ('x00', 'x10', 'x01')\n",
       "  Outputs: ('alpha_C', 'delta_C', 'y')\n",
       "  Model set size: 1\n",
       "  Expression: ([0] & [1] | [2] | [3] & [4] | [5] | [6]) & [7]\n",
       "  Components: \n",
       "      [0]: <Shift(offset=-23., name='crpix1')>\n",
       "  \n",
       "      [1]: <Shift(offset=-22., name='crpix2')>\n",
       "  \n",
       "      [2]: <AffineTransformation2D(matrix=[[-1.,  0.], [ 0.,  1.]], translation=[0., 0.], name='pc_matrix')>\n",
       "  \n",
       "      [3]: <Scale(factor=0.00003611, name='cdelt1')>\n",
       "  \n",
       "      [4]: <Scale(factor=0.00003611, name='cdelt2')>\n",
       "  \n",
       "      [5]: <Pix2Sky_Gnomonic(name='TAN')>\n",
       "  \n",
       "      [6]: <RotateNative2Celestial(lon=5.4583098, lat=-72.23789288, lon_pole=180., name='crval')>\n",
       "  \n",
       "      [7]: <Tabular1D(points=(array([0.0000e+00, 1.0000e+00, 2.0000e+00, ..., 1.0417e+04, 1.0418e+04,\n",
       "             1.0419e+04]),), lookup_table=[4.89    4.89064 4.89129 ... 0.      0.      0.     ])>\n",
       "  Parameters:\n",
       "      offset_0 offset_1 matrix_2 [2,2] ...       lat_6        lon_pole_6\n",
       "      -------- -------- -------------- ... ------------------ ----------\n",
       "         -23.0    -22.0    -1.0 .. 1.0 ... -72.23789288180612      180.0)>,\n",
       "  'wcsinfo': {'cdelt1': 3.6111109786563447e-05,\n",
       "   'cdelt2': 3.6111109786563447e-05,\n",
       "   'crpix1': 23.0,\n",
       "   'crpix2': 22.0,\n",
       "   'crpix3': 1.0,\n",
       "   'crval1': 5.458309800926484,\n",
       "   'crval2': -72.23789288180612,\n",
       "   'crval3': 1.0,\n",
       "   'ctype1': 'RA---TAN',\n",
       "   'ctype2': 'DEC--TAN',\n",
       "   'ctype3': 'WAVE-TAB',\n",
       "   'cunit1': 'deg',\n",
       "   'cunit2': 'deg',\n",
       "   'cunit3': 'um',\n",
       "   'dec_ref': -72.23760498,\n",
       "   'pc1_1': -1,\n",
       "   'pc1_2': 0,\n",
       "   'pc1_3': 0,\n",
       "   'pc2_1': 0,\n",
       "   'pc2_2': 1,\n",
       "   'pc2_3': 0,\n",
       "   'pc3_1': 0,\n",
       "   'pc3_2': 0,\n",
       "   'pc3_3': 1,\n",
       "   'ps3_0': 'WCS-TABLE',\n",
       "   'ps3_1': 'wavelength',\n",
       "   'ra_ref': 5.459076,\n",
       "   'roll_ref': 3.812,\n",
       "   's_region': 'POLYGON ICRS  5.455942266 -72.238687312 5.455942266 -72.237206752 5.461032467 -72.237206752 5.461032467 -72.238687312',\n",
       "   'specsys': 'BARYCENT',\n",
       "   'v2_ref': -503.0,\n",
       "   'v3_ref': -318.0,\n",
       "   'v3yangle': 5.0152,\n",
       "   'vparity': -1,\n",
       "   'wcsaxes': 3}},\n",
       " 'wavedim': '(1,10420)',\n",
       " 'wavetable': <array (unloaded) shape: [1] dtype: [('nelem', '<i2'), ('wavelength', '<f4', (10420,))]>,\n",
       " 'weightmap': <array (unloaded) shape: [4149, 42, 44] dtype: >f4>}"
      ]
     },
     "execution_count": 3,
     "metadata": {},
     "output_type": "execute_result"
    }
   ],
   "source": [
    "tree = asdf.open(data_path)\n",
    "tree.tree"
   ]
  },
  {
   "cell_type": "markdown",
   "metadata": {},
   "source": [
    "## Experiment with using built-in select widget"
   ]
  },
  {
   "cell_type": "code",
   "execution_count": 4,
   "metadata": {},
   "outputs": [],
   "source": [
    "import ipywidgets as widgets\n",
    "from IPython.display import display"
   ]
  },
  {
   "cell_type": "code",
   "execution_count": 5,
   "metadata": {},
   "outputs": [],
   "source": [
    "select = widgets.Select(options=tree.keys())"
   ]
  },
  {
   "cell_type": "code",
   "execution_count": 6,
   "metadata": {},
   "outputs": [
    {
     "data": {
      "application/vnd.jupyter.widget-view+json": {
       "model_id": "6ad1781df5334267862ee20fe2035a3e",
       "version_major": 2,
       "version_minor": 0
      },
      "text/plain": [
       "Select(options=('asdf_library', 'history', 'data', 'dq', 'err', 'meta', 'wavedim', 'wavetable', 'weightmap'), …"
      ]
     },
     "metadata": {},
     "output_type": "display_data"
    }
   ],
   "source": [
    "display(select)"
   ]
  },
  {
   "cell_type": "markdown",
   "metadata": {},
   "source": [
    "## Experiment with using built-in accordion widgets"
   ]
  },
  {
   "cell_type": "code",
   "execution_count": 7,
   "metadata": {},
   "outputs": [],
   "source": [
    "accordion = widgets.Accordion(children=[widgets.Textarea(k) for k in tree.keys()])\n",
    "for i, key in enumerate(tree.keys()):\n",
    "    accordion.set_title(i, key)"
   ]
  },
  {
   "cell_type": "code",
   "execution_count": 8,
   "metadata": {},
   "outputs": [
    {
     "data": {
      "application/vnd.jupyter.widget-view+json": {
       "model_id": "fc40afaa56f64d8b8733e83439ba4739",
       "version_major": 2,
       "version_minor": 0
      },
      "text/plain": [
       "Accordion(children=(Textarea(value='asdf_library'), Textarea(value='history'), Textarea(value='data'), Textare…"
      ]
     },
     "metadata": {},
     "output_type": "display_data"
    }
   ],
   "source": [
    "# This seems to provide a flexible and intuitive layout. We will need to recursively populate the entire tree, though.\n",
    "display(accordion)"
   ]
  },
  {
   "cell_type": "markdown",
   "metadata": {},
   "source": [
    "### Define widget for displaying WCS objects"
   ]
  },
  {
   "cell_type": "code",
   "execution_count": 111,
   "metadata": {},
   "outputs": [],
   "source": [
    "from astropy.table import Table, conf\n",
    "\n",
    "\n",
    "class WCSWidget:\n",
    "    def __init__(self, wcs):\n",
    "        self._wcs = wcs\n",
    "        self._table = self._create_table(wcs)\n",
    "        \n",
    "    def _create_table(self, wcs):\n",
    "        names = ['step index', 'class', 'name', 'inputs', 'outputs', 'size', 'parameters']\n",
    "        dtypes = ['S' for x in names]\n",
    "        table = Table(names=names, dtype=dtypes)\n",
    "        for i, step in enumerate(wcs.forward_transform):\n",
    "            klass = step.__class__.__name__\n",
    "            name = step.name\n",
    "            inputs = step.inputs\n",
    "            outputs = step.outputs\n",
    "            size = len(step)\n",
    "            params = step.parameters            \n",
    "            table.add_row([str(x) for x in [i, klass, name, inputs, outputs, size, params]])\n",
    "        return table\n",
    "        \n",
    "        \n",
    "    def show(self):\n",
    "        return widgets.VBox(children=[\n",
    "            widgets.Textarea('Expression: {}'.format(self._wcs.forward_transform._format_expression())),\n",
    "            widgets.Textarea('The WCS pipeline consists of the following steps:'),\n",
    "            widgets.HTML(self._table._base_repr_(html=True, max_width=-1, show_dtype=False, \n",
    "                                                    tableclass=conf.default_notebook_table_class))\n",
    "        ])"
   ]
  },
  {
   "cell_type": "markdown",
   "metadata": {},
   "source": [
    "### Recursively construct a representation of a tree"
   ]
  },
  {
   "cell_type": "code",
   "execution_count": 112,
   "metadata": {},
   "outputs": [],
   "source": [
    "def render_gwcs_pipeline(pipeline):\n",
    "    return WCSWidget(pipeline).show()\n",
    "\n",
    "def render_asdf_ndarray(array, label):\n",
    "    return widgets.Textarea('This is an ASDF NDArray')\n",
    "\n",
    "def process_asdf_children(node):\n",
    "    children = []\n",
    "    for key, item in node.items():\n",
    "        if isinstance(item, dict):\n",
    "            children.append(generate_asdf_tree(item))\n",
    "        elif isinstance(item, gwcs.WCS):\n",
    "            children.append(render_gwcs_pipeline(item))\n",
    "        elif isinstance(item, asdf.tags.core.NDArrayType):\n",
    "            children.append(render_asdf_ndarray(item, key))\n",
    "        elif isinstance(item, list):\n",
    "            children.append(widgets.Textarea('{} is a list'.format(key)))\n",
    "        else:\n",
    "            children.append(widgets.Textarea('{}'.format(item)))\n",
    "    return children\n",
    "\n",
    "def generate_asdf_tree(tree):\n",
    "    keys = tree.keys()\n",
    "    accordion = widgets.Accordion(children=process_asdf_children(tree))\n",
    "    for i, key in enumerate(keys):\n",
    "        accordion.set_title(i, key)\n",
    "    return accordion"
   ]
  },
  {
   "cell_type": "code",
   "execution_count": 113,
   "metadata": {},
   "outputs": [
    {
     "data": {
      "application/vnd.jupyter.widget-view+json": {
       "model_id": "a931301d32e04f5f9a09efe593154a53",
       "version_major": 2,
       "version_minor": 0
      },
      "text/plain": [
       "Accordion(children=(Accordion(children=(Textarea(value='Space Telescope Science Institute'), Textarea(value='h…"
      ]
     },
     "metadata": {},
     "output_type": "display_data"
    }
   ],
   "source": [
    "display(generate_asdf_tree(tree.tree))"
   ]
  },
  {
   "cell_type": "code",
   "execution_count": null,
   "metadata": {},
   "outputs": [],
   "source": []
  }
 ],
 "metadata": {
  "kernelspec": {
   "display_name": "Python 3",
   "language": "python",
   "name": "python3"
  },
  "language_info": {
   "codemirror_mode": {
    "name": "ipython",
    "version": 3
   },
   "file_extension": ".py",
   "mimetype": "text/x-python",
   "name": "python",
   "nbconvert_exporter": "python",
   "pygments_lexer": "ipython3",
   "version": "3.6.8"
  }
 },
 "nbformat": 4,
 "nbformat_minor": 2
}
