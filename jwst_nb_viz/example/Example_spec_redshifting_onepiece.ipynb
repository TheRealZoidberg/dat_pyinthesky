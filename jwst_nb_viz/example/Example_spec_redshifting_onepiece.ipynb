{
 "cells": [
  {
   "cell_type": "markdown",
   "metadata": {},
   "source": [
    "# NOTE\n",
    "\n",
    "This notebook is an earlier version of the (Example_spec_redshifting)[Example_spec_redshifting.ipynb] notebook, but with the notebook gui code integrated in the notebook.  It is meant to demonstrate an earlier step in the development process, not the \"final\" notebook."
   ]
  },
  {
   "cell_type": "code",
   "execution_count": null,
   "metadata": {},
   "outputs": [],
   "source": []
  },
  {
   "cell_type": "code",
   "execution_count": null,
   "metadata": {},
   "outputs": [],
   "source": [
    "import io\n",
    "\n",
    "import numpy as np\n",
    "\n",
    "from astropy.coordinates import SkyCoord\n",
    "from astropy import units as u\n",
    "from astropy import table\n",
    "\n",
    "import specutils, specutils.fitting, specutils.analysis\n",
    "\n",
    "from astroquery.sdss import SDSS\n",
    "\n",
    "from IPython import display\n",
    "\n",
    "%matplotlib inline\n",
    "from matplotlib import pyplot as plt"
   ]
  },
  {
   "cell_type": "code",
   "execution_count": null,
   "metadata": {},
   "outputs": [],
   "source": [
    "spec_file = SDSS.get_spectra(plate=6497, mjd=56329, fiberID=139)[0]\n",
    "spec_file.writeto('spectrum.fits', overwrite=True)\n",
    "spec = specutils.Spectrum1D.read('spectrum.fits', format='SDSS-III/IV spec')"
   ]
  },
  {
   "cell_type": "code",
   "execution_count": null,
   "metadata": {},
   "outputs": [],
   "source": [
    "url = 'http://skyserver.sdss.org/dr12/SkyserverWS/ImgCutout/getjpeg?ra={}&dec={}&width=256&height=256&scale=.1'.format(spec_file[0].header['PLUG_RA'], spec_file[0].header['PLUG_DEC'])\n",
    "display.Image(url=url)"
   ]
  },
  {
   "cell_type": "markdown",
   "metadata": {},
   "source": [
    "Create a continuum-subtracted spectrum:"
   ]
  },
  {
   "cell_type": "code",
   "execution_count": null,
   "metadata": {},
   "outputs": [],
   "source": [
    "basic_continuum = specutils.fitting.fit_generic_continuum(spec)\n",
    "subspec = spec - basic_continuum(spec.spectral_axis)"
   ]
  },
  {
   "cell_type": "markdown",
   "metadata": {},
   "source": [
    "Define some important known bright galaxy emission lines:"
   ]
  },
  {
   "cell_type": "code",
   "execution_count": null,
   "metadata": {},
   "outputs": [],
   "source": [
    "bright_lines = {'Ha': 6562.801*u.AA, 'Hb':4861.363*u.AA, 'OIIIa':4958.911*u.AA, 'OIIIb':5006.843*u.AA,\n",
    "                'OII':3727*u.AA # a doublet so this is ballpark\n",
    "               } "
   ]
  },
  {
   "cell_type": "markdown",
   "metadata": {},
   "source": [
    "# Identify line regions "
   ]
  },
  {
   "cell_type": "markdown",
   "metadata": {},
   "source": [
    "## Non-interactive version"
   ]
  },
  {
   "cell_type": "code",
   "execution_count": null,
   "metadata": {},
   "outputs": [],
   "source": [
    "plt.step(subspec.wavelength.to(u.angstrom), subspec.flux)"
   ]
  },
  {
   "cell_type": "markdown",
   "metadata": {},
   "source": [
    "That looks like a classic emission line spectrum, but now I need to zoom in by hand to find the lines.  Lets start with $H\\alpha$"
   ]
  },
  {
   "cell_type": "code",
   "execution_count": null,
   "metadata": {},
   "outputs": [],
   "source": [
    "plt.step(subspec.wavelength.to(u.angstrom), subspec.flux)\n",
    "plt.xlim(7000, 7200)"
   ]
  },
  {
   "cell_type": "code",
   "execution_count": null,
   "metadata": {},
   "outputs": [],
   "source": [
    "plt.step(subspec.wavelength, subspec.flux, where='mid')\n",
    "plt.xlim(7100, 7150)\n",
    "\n",
    "halpha_region = specutils.SpectralRegion(7120*u.angstrom, 7135*u.angstrom)\n",
    "plt.axvline(halpha_region.lower.to(subspec.wavelength.unit).value, c='k', ls='--')\n",
    "plt.axvline(halpha_region.upper.to(subspec.wavelength.unit).value, c='k', ls='--')\n",
    "\n",
    "halpha_center = specutils.analysis.centroid(subspec, halpha_region)\n",
    "plt.axvline(halpha_center.value, c='k', ls='-')"
   ]
  },
  {
   "cell_type": "markdown",
   "metadata": {},
   "source": [
    "In the above I had to hand-adjust the locations of the lines to find the right wl bounds.  So now I can *guess* the redshift:"
   ]
  },
  {
   "cell_type": "code",
   "execution_count": null,
   "metadata": {},
   "outputs": [],
   "source": [
    "halpha_z = halpha_center/bright_lines['Ha'] - 1\n",
    "halpha_z"
   ]
  },
  {
   "cell_type": "markdown",
   "metadata": {},
   "source": [
    "Which lets me estimate where all the other lines should be:"
   ]
  },
  {
   "cell_type": "code",
   "execution_count": null,
   "metadata": {},
   "outputs": [],
   "source": [
    "for nm, wl in bright_lines.items():\n",
    "    print(nm, (1+halpha_z)*wl)"
   ]
  },
  {
   "cell_type": "code",
   "execution_count": null,
   "metadata": {},
   "outputs": [],
   "source": [
    "fig, axs = plt.subplots(3, 2, figsize=(12, 6))\n",
    "\n",
    "regions = {'Ha': halpha_region,\n",
    "           'Hb': specutils.SpectralRegion(5275*u.angstrom, 5285*u.angstrom),\n",
    "           'OIIIa': specutils.SpectralRegion(5380*u.angstrom, 5390*u.angstrom),\n",
    "           'OIIIb': specutils.SpectralRegion(5430*u.angstrom, 5442*u.angstrom),\n",
    "           'OII': specutils.SpectralRegion(4043*u.angstrom, 4052*u.angstrom)\n",
    "          }\n",
    "\n",
    "for ax, (line, reg) in zip(axs.ravel(), regions.items()):\n",
    "    centroid = specutils.analysis.centroid(subspec, reg)\n",
    "    ax.step(subspec.wavelength, subspec.flux, where='mid')\n",
    "    ax.axvline(reg.lower.value, c='k', ls='--')\n",
    "    ax.axvline(reg.upper.value, c='k', ls='--')\n",
    "    ax.axvline(centroid.value, c='k', ls='-')\n",
    "    ax.set_xlim((reg.lower-15*u.angstrom).value, (reg.upper+15*u.angstrom).value)\n",
    "    ax.set_title(line)\n",
    "    \n",
    "plt.tight_layout()"
   ]
  },
  {
   "cell_type": "markdown",
   "metadata": {},
   "source": [
    "As before, the numbers in the \"regions\" dictionary had to be manually tweaked and the cell re-executed."
   ]
  },
  {
   "cell_type": "markdown",
   "metadata": {},
   "source": [
    "But that required a lot of manual plotting.  Even better would be to be able to get regions fit interactively!:"
   ]
  },
  {
   "cell_type": "markdown",
   "metadata": {},
   "source": [
    "## Interactive version"
   ]
  },
  {
   "cell_type": "markdown",
   "metadata": {},
   "source": [
    "How to use: Execute the next three cells (until you see a spectrum). \n",
    "\n",
    "In the spectrum view, select the region for a spectral line to be identified.  Then hit \"Record line\".  This should also populate an estimate for a redshift  Select the next line and hit \"jump\", recording if desired.  Continue until all lines are populated."
   ]
  },
  {
   "cell_type": "code",
   "execution_count": null,
   "metadata": {},
   "outputs": [],
   "source": [
    "import glue_jupyter as gj\n",
    "from glue import core as gcore\n",
    "\n",
    "import ipywidgets"
   ]
  },
  {
   "cell_type": "code",
   "execution_count": null,
   "metadata": {},
   "outputs": [],
   "source": [
    "subspec_data = gcore.Data(wl=subspec.wavelength, flux=subspec.flux, unc=subspec.uncertainty.array)\n",
    "app = gj.jglue(subspec_data)"
   ]
  },
  {
   "cell_type": "code",
   "execution_count": null,
   "metadata": {},
   "outputs": [],
   "source": [
    "# this cell sets up a \"line identification GUI\" which is used in the next cell\n",
    "\n",
    "regions = {}  # populated with spectral regions by frecord\n",
    "\n",
    "line_selection = ipywidgets.Dropdown(options=bright_lines.keys(), description='Line:')\n",
    "record_button = ipywidgets.Button(description='Record line')\n",
    "result_text = ipywidgets.Text(disabled=True, value='No line recorded')\n",
    "\n",
    "\n",
    "record_box = ipywidgets.HBox([line_selection, record_button, result_text])\n",
    "\n",
    "\n",
    "z_text = ipywidgets.FloatText(description='z guess:', value='0')\n",
    "jump_button = ipywidgets.Button(description='Jump to line')\n",
    "\n",
    "jump_box = ipywidgets.HBox([z_text, jump_button])\n",
    "\n",
    "\n",
    "def frecord(widget):\n",
    "    wls_selected = subspec_data['wl'][subspec_data.subsets[0].to_index_list()]\n",
    "    \n",
    "    reg = specutils.SpectralRegion(np.min(wls_selected)*subspec.wavelength.unit, \n",
    "                                   np.max(wls_selected)*subspec.wavelength.unit)\n",
    "    result_text.value = 'Recorded {}: {} to {}'.format(line_selection.value, reg.lower, reg.upper)\n",
    "    regions[line_selection.value] = reg\n",
    "    \n",
    "    z_text.value = specutils.analysis.centroid(subspec, reg)/bright_lines[line_selection.value]-1\n",
    "record_button.on_click(frecord)\n",
    "\n",
    "\n",
    "_jumplot = [None]\n",
    "def fjump(widget):\n",
    "    specplot = _jumplot[0]\n",
    "    if specplot is None:\n",
    "        return\n",
    "    rest_linecen = bright_lines[line_selection.value]\n",
    "    linecen = rest_linecen*(1+z_text.value)\n",
    "    specplot.state.x_min = linecen.value + 50\n",
    "    specplot.state.x_max = linecen.value - 50\n",
    "jump_button.on_click(fjump)"
   ]
  },
  {
   "cell_type": "code",
   "execution_count": null,
   "metadata": {},
   "outputs": [],
   "source": [
    "specplot = app.scatter2d('wl', 'flux')\n",
    "_jumplot[0] = specplot\n",
    "\n",
    "# note that the line below *might* not work on some versions of glue-jupyter. If so, either manually do the brushing, or use this: specplot.button_action.value = 'brush x' \n",
    "specplot.widget_button_interact.value = specplot.interact_brush_x\n",
    "specplot.state.x_min = 7050\n",
    "specplot.state.x_max = 7250\n",
    "\n",
    "ipywidgets.VBox([record_box, jump_box])"
   ]
  },
  {
   "cell_type": "markdown",
   "metadata": {},
   "source": [
    "Improvements desired:\n",
    "\n",
    "* Hide the state panel and the  - it's a distraction.\n",
    "* Make the spectrum a \"line\"\n",
    "* Show the uncertainty as a fainter line"
   ]
  },
  {
   "cell_type": "markdown",
   "metadata": {},
   "source": [
    "# Estimate redshift"
   ]
  },
  {
   "cell_type": "markdown",
   "metadata": {},
   "source": [
    "Lets display the results for all the lines in a table:"
   ]
  },
  {
   "cell_type": "code",
   "execution_count": null,
   "metadata": {},
   "outputs": [],
   "source": [
    "tab = table.QTable()\n",
    "tab['name'] = table.Column(dtype='S10')\n",
    "tab['centroid'] = table.Column(dtype=float, unit=u.angstrom)\n",
    "tab['rest'] = table.Column(dtype=float, unit=u.angstrom)\n",
    "for name in bright_lines:\n",
    "    centroid = specutils.analysis.centroid(subspec, regions[name])\n",
    "    tab.add_row([name, centroid, bright_lines[name]]) \n",
    "    \n",
    "tab['z'] = (tab['centroid']/tab['rest']) - 1\n",
    "tab"
   ]
  },
  {
   "cell_type": "markdown",
   "metadata": {},
   "source": [
    "And then estimate the redshift from all of these combined:"
   ]
  },
  {
   "cell_type": "code",
   "execution_count": null,
   "metadata": {},
   "outputs": [],
   "source": [
    "z_mean = np.mean(tab['z'])\n",
    "z_mean"
   ]
  },
  {
   "cell_type": "code",
   "execution_count": null,
   "metadata": {},
   "outputs": [],
   "source": [
    "z_std = np.std(tab['z'])\n",
    "z_std"
   ]
  },
  {
   "cell_type": "code",
   "execution_count": null,
   "metadata": {},
   "outputs": [],
   "source": [
    "percent_uncertainty = (z_std/z_mean).to(u.percent)\n",
    "percent_uncertainty"
   ]
  }
 ],
 "metadata": {
  "kernelspec": {
   "display_name": "Python 3",
   "language": "python",
   "name": "python3"
  },
  "language_info": {
   "codemirror_mode": {
    "name": "ipython",
    "version": 3
   },
   "file_extension": ".py",
   "mimetype": "text/x-python",
   "name": "python",
   "nbconvert_exporter": "python",
   "pygments_lexer": "ipython3",
   "version": "3.6.7"
  }
 },
 "nbformat": 4,
 "nbformat_minor": 2
}
