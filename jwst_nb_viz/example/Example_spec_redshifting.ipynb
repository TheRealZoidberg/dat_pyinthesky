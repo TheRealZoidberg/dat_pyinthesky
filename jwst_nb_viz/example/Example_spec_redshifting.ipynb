{
 "cells": [
  {
   "cell_type": "code",
   "execution_count": 1,
   "metadata": {},
   "outputs": [
    {
     "name": "stderr",
     "output_type": "stream",
     "text": [
      "/Users/erik/miniconda3/envs/glue-jupyter/lib/python3.7/site-packages/astroquery/sdss/__init__.py:29: UserWarning: Experimental: SDSS has not yet been refactored to have its API match the rest of astroquery (but it's nearly there).\n",
      "  warnings.warn(\"Experimental: SDSS has not yet been refactored to have its API \"\n"
     ]
    }
   ],
   "source": [
    "import io\n",
    "\n",
    "import numpy as np\n",
    "\n",
    "from astropy.coordinates import SkyCoord\n",
    "from astropy import units as u\n",
    "from astropy import table\n",
    "\n",
    "import specutils, specutils.fitting, specutils.analysis\n",
    "\n",
    "from astroquery.sdss import SDSS\n",
    "\n",
    "from IPython import display\n",
    "\n",
    "%matplotlib inline\n",
    "from matplotlib import pyplot as plt"
   ]
  },
  {
   "cell_type": "code",
   "execution_count": 2,
   "metadata": {},
   "outputs": [
    {
     "name": "stderr",
     "output_type": "stream",
     "text": [
      "/Users/erik/miniconda3/envs/glue-jupyter/lib/python3.7/site-packages/astroquery/sdss/core.py:856: VisibleDeprecationWarning: Reading unicode strings without specifying the encoding argument is deprecated. Set the encoding, use None for the system default.\n",
      "  comments='#'))\n"
     ]
    }
   ],
   "source": [
    "spec_file = SDSS.get_spectra(plate=6497, mjd=56329, fiberID=139)[0]\n",
    "spec_file.writeto('spectrum.fits', overwrite=True)\n",
    "spec = specutils.Spectrum1D.read('spectrum.fits', format='SDSS-III/IV spec')"
   ]
  },
  {
   "cell_type": "code",
   "execution_count": 3,
   "metadata": {},
   "outputs": [
    {
     "data": {
      "text/html": [
       "<img src=\"http://skyserver.sdss.org/dr12/SkyserverWS/ImgCutout/getjpeg?ra=214.3169399999999&dec=29.275123&width=256&height=256&scale=.1\"/>"
      ],
      "text/plain": [
       "<IPython.core.display.Image object>"
      ]
     },
     "execution_count": 3,
     "metadata": {},
     "output_type": "execute_result"
    }
   ],
   "source": [
    "url = 'http://skyserver.sdss.org/dr12/SkyserverWS/ImgCutout/getjpeg?ra={}&dec={}&width=256&height=256&scale=.1'.format(spec_file[0].header['PLUG_RA'], spec_file[0].header['PLUG_DEC'])\n",
    "display.Image(url=url)"
   ]
  },
  {
   "cell_type": "markdown",
   "metadata": {},
   "source": [
    "Create a continuum-subtracted spectrum:"
   ]
  },
  {
   "cell_type": "code",
   "execution_count": 4,
   "metadata": {},
   "outputs": [
    {
     "name": "stderr",
     "output_type": "stream",
     "text": [
      "WARNING: Model is linear in parameters; consider using linear fitting methods. [astropy.modeling.fitting]\n",
      "WARNING:astropy:Model is linear in parameters; consider using linear fitting methods.\n"
     ]
    }
   ],
   "source": [
    "basic_continuum = specutils.fitting.fit_generic_continuum(spec)\n",
    "subspec = spec - basic_continuum(spec.spectral_axis)"
   ]
  },
  {
   "cell_type": "markdown",
   "metadata": {},
   "source": [
    "Define some important known bright galaxy emission lines:"
   ]
  },
  {
   "cell_type": "code",
   "execution_count": 5,
   "metadata": {},
   "outputs": [],
   "source": [
    "bright_lines = {'Ha': 6562.801*u.AA, 'Hb':4861.363*u.AA, 'OIIIa':4958.911*u.AA, 'OIIIb':5006.843*u.AA,\n",
    "                'OII':3727*u.AA # a doublet so this is ballpark\n",
    "               } "
   ]
  },
  {
   "cell_type": "markdown",
   "metadata": {},
   "source": [
    "# Identify line regions "
   ]
  },
  {
   "cell_type": "markdown",
   "metadata": {},
   "source": [
    "## Non-interactive version"
   ]
  },
  {
   "cell_type": "code",
   "execution_count": 6,
   "metadata": {},
   "outputs": [
    {
     "data": {
      "text/plain": [
       "[<matplotlib.lines.Line2D at 0x11b887a58>]"
      ]
     },
     "execution_count": 6,
     "metadata": {},
     "output_type": "execute_result"
    },
    {
     "data": {
      "image/png": "[encoded data removed]",
      "text/plain": [
       "<Figure size 432x288 with 1 Axes>"
      ]
     },
     "metadata": {},
     "output_type": "display_data"
    }
   ],
   "source": [
    "plt.step(subspec.wavelength.to(u.angstrom), subspec.flux)"
   ]
  },
  {
   "cell_type": "markdown",
   "metadata": {},
   "source": [
    "That looks like a classic emission line spectrum, but now I need to zoom in by hand to find the lines.  Lets start with $H\\alpha$"
   ]
  },
  {
   "cell_type": "code",
   "execution_count": 7,
   "metadata": {},
   "outputs": [
    {
     "data": {
      "text/plain": [
       "(7000, 7200)"
      ]
     },
     "execution_count": 7,
     "metadata": {},
     "output_type": "execute_result"
    },
    {
     "data": {
      "image/png": "[encoded data removed]",
      "text/plain": [
       "<Figure size 432x288 with 1 Axes>"
      ]
     },
     "metadata": {},
     "output_type": "display_data"
    }
   ],
   "source": [
    "plt.step(subspec.wavelength.to(u.angstrom), subspec.flux)\n",
    "plt.xlim(7000, 7200)"
   ]
  },
  {
   "cell_type": "code",
   "execution_count": 8,
   "metadata": {},
   "outputs": [
    {
     "data": {
      "text/plain": [
       "<matplotlib.lines.Line2D at 0x11bbc2cc0>"
      ]
     },
     "execution_count": 8,
     "metadata": {},
     "output_type": "execute_result"
    },
    {
     "data": {
      "image/png": "[encoded data removed]",
      "text/plain": [
       "<Figure size 432x288 with 1 Axes>"
      ]
     },
     "metadata": {},
     "output_type": "display_data"
    }
   ],
   "source": [
    "plt.step(subspec.wavelength, subspec.flux, where='mid')\n",
    "plt.xlim(7100, 7150)\n",
    "\n",
    "halpha_region = specutils.SpectralRegion(7120*u.angstrom, 7135*u.angstrom)\n",
    "plt.axvline(halpha_region.lower.to(subspec.wavelength.unit).value, c='k', ls='--')\n",
    "plt.axvline(halpha_region.upper.to(subspec.wavelength.unit).value, c='k', ls='--')\n",
    "\n",
    "halpha_center = specutils.analysis.centroid(subspec, halpha_region)\n",
    "plt.axvline(halpha_center.value, c='k', ls='-')"
   ]
  },
  {
   "cell_type": "markdown",
   "metadata": {},
   "source": [
    "In the above I had to hand-adjust the locations of the lines to find the right wl bounds.  So now I can *guess* the redshift:"
   ]
  },
  {
   "cell_type": "code",
   "execution_count": 9,
   "metadata": {},
   "outputs": [
    {
     "data": {
      "text/latex": [
       "$0.085988711 \\; \\mathrm{}$"
      ],
      "text/plain": [
       "<Quantity 0.08598871>"
      ]
     },
     "execution_count": 9,
     "metadata": {},
     "output_type": "execute_result"
    }
   ],
   "source": [
    "halpha_z = halpha_center/bright_lines['Ha'] - 1\n",
    "halpha_z"
   ]
  },
  {
   "cell_type": "markdown",
   "metadata": {},
   "source": [
    "Which lets me estimate where all the other lines should be:"
   ]
  },
  {
   "cell_type": "code",
   "execution_count": 10,
   "metadata": {},
   "outputs": [
    {
     "name": "stdout",
     "output_type": "stream",
     "text": [
      "Ha 7127.127797940857 Angstrom\n",
      "Hb 5279.385337629643 Angstrom\n",
      "OIIIa 5385.321364401372 Angstrom\n",
      "OIIIb 5437.374975292652 Angstrom\n",
      "OII 4047.4799255570256 Angstrom\n"
     ]
    }
   ],
   "source": [
    "for nm, wl in bright_lines.items():\n",
    "    print(nm, (1+halpha_z)*wl)"
   ]
  },
  {
   "cell_type": "code",
   "execution_count": 11,
   "metadata": {},
   "outputs": [
    {
     "data": {
      "image/png": "[encoded data removed]",
      "text/plain": [
       "<Figure size 864x432 with 6 Axes>"
      ]
     },
     "metadata": {},
     "output_type": "display_data"
    }
   ],
   "source": [
    "fig, axs = plt.subplots(3, 2, figsize=(12, 6))\n",
    "\n",
    "regions = {'Ha': halpha_region,\n",
    "           'Hb': specutils.SpectralRegion(5275*u.angstrom, 5285*u.angstrom),\n",
    "           'OIIIa': specutils.SpectralRegion(5380*u.angstrom, 5390*u.angstrom),\n",
    "           'OIIIb': specutils.SpectralRegion(5430*u.angstrom, 5442*u.angstrom),\n",
    "           'OII': specutils.SpectralRegion(4043*u.angstrom, 4052*u.angstrom)\n",
    "          }\n",
    "\n",
    "for ax, (line, reg) in zip(axs.ravel(), regions.items()):\n",
    "    centroid = specutils.analysis.centroid(subspec, reg)\n",
    "    ax.step(subspec.wavelength, subspec.flux, where='mid')\n",
    "    ax.axvline(reg.lower.value, c='k', ls='--')\n",
    "    ax.axvline(reg.upper.value, c='k', ls='--')\n",
    "    ax.axvline(centroid.value, c='k', ls='-')\n",
    "    ax.set_xlim((reg.lower-15*u.angstrom).value, (reg.upper+15*u.angstrom).value)\n",
    "    ax.set_title(line)\n",
    "    \n",
    "plt.tight_layout()"
   ]
  },
  {
   "cell_type": "markdown",
   "metadata": {},
   "source": [
    "As before, the numbers in the \"regions\" dictionary had to be manually tweaked and the cell re-executed."
   ]
  },
  {
   "cell_type": "markdown",
   "metadata": {},
   "source": [
    "But that required a lot of manual plotting.  Even better would be to be able to get regions fit interactively!:"
   ]
  },
  {
   "cell_type": "markdown",
   "metadata": {},
   "source": [
    "## Interactive version"
   ]
  },
  {
   "cell_type": "markdown",
   "metadata": {},
   "source": [
    "How to use: Execute the next three cells (until you see a spectrum). \n",
    "\n",
    "In the spectrum view, select the region for a spectral line to be identified.  Then hit \"Record line\".  This should also populate an estimate for a redshift  Select the next line and hit \"jump\", recording if desired.  Continue until all lines are populated."
   ]
  },
  {
   "cell_type": "code",
   "execution_count": 12,
   "metadata": {},
   "outputs": [],
   "source": [
    "import helper_library"
   ]
  },
  {
   "cell_type": "code",
   "execution_count": 13,
   "metadata": {},
   "outputs": [
    {
     "data": {
      "application/vnd.jupyter.widget-view+json": {
       "model_id": "67226cac9c034b4d8349bdbdd9fb3cbf",
       "version_major": 2,
       "version_minor": 0
      },
      "text/plain": [
       "VBox(children=(ToggleButtons(description='Selection mode:', options=('replace', 'add', 'and', 'xor', 'remove')…"
      ]
     },
     "metadata": {},
     "output_type": "display_data"
    }
   ],
   "source": [
    "line_finder = helper_library.SpectrumLineFinder(subspec, bright_lines)"
   ]
  },
  {
   "cell_type": "code",
   "execution_count": 14,
   "metadata": {},
   "outputs": [
    {
     "data": {
      "application/vnd.jupyter.widget-view+json": {
       "model_id": "6eaf10dd174f49b5b36de8b768b5c2f3",
       "version_major": 2,
       "version_minor": 0
      },
      "text/plain": [
       "VBox(children=(HBox(children=(Figure(axes=[Axis(label='flux', scale=LinearScale(allow_padding=False, max=63.96…"
      ]
     },
     "metadata": {},
     "output_type": "display_data"
    },
    {
     "data": {
      "application/vnd.jupyter.widget-view+json": {
       "model_id": "d7d8e44228ca4b07be43a25514fe62f3",
       "version_major": 2,
       "version_minor": 0
      },
      "text/plain": [
       "VBox(children=(HBox(children=(Dropdown(description='Line:', options=('Ha', 'Hb', 'OIIIa', 'OIIIb', 'OII'), val…"
      ]
     },
     "metadata": {},
     "output_type": "display_data"
    }
   ],
   "source": [
    "line_finder.show()"
   ]
  },
  {
   "cell_type": "code",
   "execution_count": 15,
   "metadata": {},
   "outputs": [],
   "source": [
    "# uncommenting this will use the interactive results for the final section instead of the non-interactive\n",
    "#regions = line_finder.get_regions()"
   ]
  },
  {
   "cell_type": "markdown",
   "metadata": {},
   "source": [
    "Improvements desired:\n",
    "\n",
    "* Hide the state panel and the  - it's a distraction.\n",
    "* Make the spectrum a \"line\"\n",
    "* Show the uncertainty as a fainter line"
   ]
  },
  {
   "cell_type": "markdown",
   "metadata": {},
   "source": [
    "# Estimate redshift"
   ]
  },
  {
   "cell_type": "markdown",
   "metadata": {},
   "source": [
    "Lets display the results for all the lines in a table:"
   ]
  },
  {
   "cell_type": "code",
   "execution_count": 16,
   "metadata": {},
   "outputs": [
    {
     "data": {
      "text/html": [
       "<i>QTable length=5</i>\n",
       "<table id=\"table4862165064\" class=\"table-striped table-bordered table-condensed\">\n",
       "<thead><tr><th>name</th><th>centroid</th><th>rest</th><th>z</th></tr></thead>\n",
       "<thead><tr><th></th><th>Angstrom</th><th>Angstrom</th><th></th></tr></thead>\n",
       "<thead><tr><th>bytes10</th><th>float64</th><th>float64</th><th>float64</th></tr></thead>\n",
       "<tr><td>Ha</td><td>7127.127797940857</td><td>6562.801</td><td>0.08598871090878069</td></tr>\n",
       "<tr><td>Hb</td><td>5279.094044643962</td><td>4861.363</td><td>0.08592879088518202</td></tr>\n",
       "<tr><td>OIIIa</td><td>5385.353607416141</td><td>4958.911</td><td>0.08599521294416079</td></tr>\n",
       "<tr><td>OIIIb</td><td>5437.34040226577</td><td>5006.843</td><td>0.08598180575379932</td></tr>\n",
       "<tr><td>OII</td><td>4047.807939195805</td><td>3727.0</td><td>0.08607672100772867</td></tr>\n",
       "</table>"
      ],
      "text/plain": [
       "<QTable length=5>\n",
       "  name       centroid       rest            z         \n",
       "             Angstrom     Angstrom                    \n",
       "bytes10      float64      float64        float64      \n",
       "------- ----------------- -------- -------------------\n",
       "     Ha 7127.127797940857 6562.801 0.08598871090878069\n",
       "     Hb 5279.094044643962 4861.363 0.08592879088518202\n",
       "  OIIIa 5385.353607416141 4958.911 0.08599521294416079\n",
       "  OIIIb  5437.34040226577 5006.843 0.08598180575379932\n",
       "    OII 4047.807939195805   3727.0 0.08607672100772867"
      ]
     },
     "execution_count": 16,
     "metadata": {},
     "output_type": "execute_result"
    }
   ],
   "source": [
    "tab = table.QTable()\n",
    "tab['name'] = table.Column(dtype='S10')\n",
    "tab['centroid'] = table.Column(dtype=float, unit=u.angstrom)\n",
    "tab['rest'] = table.Column(dtype=float, unit=u.angstrom)\n",
    "for name in bright_lines:\n",
    "    centroid = specutils.analysis.centroid(subspec, regions[name])\n",
    "    tab.add_row([name, centroid, bright_lines[name]]) \n",
    "    \n",
    "tab['z'] = (tab['centroid']/tab['rest']) - 1\n",
    "tab"
   ]
  },
  {
   "cell_type": "markdown",
   "metadata": {},
   "source": [
    "And then estimate the redshift from all of these combined:"
   ]
  },
  {
   "cell_type": "code",
   "execution_count": 17,
   "metadata": {},
   "outputs": [
    {
     "data": {
      "text/latex": [
       "$0.085994248 \\; \\mathrm{}$"
      ],
      "text/plain": [
       "<Quantity 0.08599425>"
      ]
     },
     "execution_count": 17,
     "metadata": {},
     "output_type": "execute_result"
    }
   ],
   "source": [
    "z_mean = np.mean(tab['z'])\n",
    "z_mean"
   ]
  },
  {
   "cell_type": "code",
   "execution_count": 18,
   "metadata": {},
   "outputs": [
    {
     "data": {
      "text/latex": [
       "$4.7482272 \\times 10^{-5} \\; \\mathrm{}$"
      ],
      "text/plain": [
       "<Quantity 4.74822722e-05>"
      ]
     },
     "execution_count": 18,
     "metadata": {},
     "output_type": "execute_result"
    }
   ],
   "source": [
    "z_std = np.std(tab['z'])\n",
    "z_std"
   ]
  },
  {
   "cell_type": "code",
   "execution_count": 19,
   "metadata": {},
   "outputs": [
    {
     "data": {
      "text/latex": [
       "$0.055215637 \\; \\mathrm{\\%}$"
      ],
      "text/plain": [
       "<Quantity 0.05521564 %>"
      ]
     },
     "execution_count": 19,
     "metadata": {},
     "output_type": "execute_result"
    }
   ],
   "source": [
    "percent_uncertainty = (z_std/z_mean).to(u.percent)\n",
    "percent_uncertainty"
   ]
  }
 ],
 "metadata": {
  "kernelspec": {
   "display_name": "Python 3",
   "language": "python",
   "name": "python3"
  },
  "language_info": {
   "codemirror_mode": {
    "name": "ipython",
    "version": 3
   },
   "file_extension": ".py",
   "mimetype": "text/x-python",
   "name": "python",
   "nbconvert_exporter": "python",
   "pygments_lexer": "ipython3",
   "version": "3.7.0"
  }
 },
 "nbformat": 4,
 "nbformat_minor": 2
}
