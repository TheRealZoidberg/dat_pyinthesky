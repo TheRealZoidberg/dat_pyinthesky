{
 "cells": [
  {
   "cell_type": "markdown",
   "metadata": {},
   "source": [
    "# Interactive PSF photometry using Simulated NIRCam Image\n",
    "\n",
    "This is the interactive version of the accompanying `NIRCAM_PSF_phot_mpl.ipynb` by Matteo Correnti. This notebook was contributed by Pey Lian Lim, with inputs from Matteo Correnti and Erik Tollerud. Jupyter Lab is recommended because you can pop out the displays into separate tabs as needed.\n",
    "\n",
    "Its goal is to perform PSF photometry on simulated JWST NIRCam image for a \"crowded\" field based on use case laid out in https://outerspace.stsci.edu/display/JWSTDATF/JWST+Data+Analysis+Tool+Use+Case+for+crowded+field+imaging .\n",
    "\n",
    "Workflow:\n",
    "\n",
    "* Use `photutils` to find stars in a given image.\n",
    "* Circle the stars on the image.\n",
    "* For each star found, make a cutout image.\n",
    "* Display the cutouts for selection.\n",
    "* Select a subset of the stars based on cutouts.\n",
    "* Use the selection to build a PSF.\n",
    "* Subtract PSF from image (a sub-image is used here to shorten run time).\n",
    "* Display residual image and compare it to original sub-image.\n",
    "* User may repeat the steps above until PSF is deemed satisfactory.\n",
    "* Save out the final selection to a table file.\n",
    "\n",
    "Future work:\n",
    "\n",
    "* Repeat for the same field in a different filter.\n",
    "* Use photometry results from both filters to build a CMD.\n",
    "\n",
    "The interactive portion was done using `astrowidgets` with Ginga backend. See https://astrowidgets.readthedocs.io for additional details about the widget, including installation notes."
   ]
  },
  {
   "cell_type": "code",
   "execution_count": 1,
   "metadata": {},
   "outputs": [],
   "source": [
    "from astrowidgets import ImageWidget as _ImageWidget"
   ]
  },
  {
   "cell_type": "markdown",
   "metadata": {},
   "source": [
    "We subclass `ImageWidget` here to add ASDF loader. In the future, the loader method would be in `astrowidgets` and this subclass would no longer be necessary.\n",
    "\n",
    "# NOTE\n",
    "\n",
    "The ASDF portion of this work was not successful during the Hack Day because reading JWST ASDF file could not be done on Windows. See https://github.com/spacetelescope/jwst/issues/3132 for more details. Theoretically, this would work on Linux or OSX, but currently untested."
   ]
  },
  {
   "cell_type": "code",
   "execution_count": 2,
   "metadata": {},
   "outputs": [
    {
     "data": {
      "text/plain": [
       "True"
      ]
     },
     "execution_count": 2,
     "metadata": {},
     "output_type": "execute_result"
    }
   ],
   "source": [
    "# Reading ASDF in Ginga needs this to be specified early on\n",
    "from ginga.util import wcsmod\n",
    "\n",
    "wcsmod.use('astropy_ape14')"
   ]
  },
  {
   "cell_type": "code",
   "execution_count": 180,
   "metadata": {},
   "outputs": [],
   "source": [
    "# TODO: Do we need to port this upstream to astrowidgets?\n",
    "class ImageWidget(_ImageWidget):\n",
    "    \n",
    "    _other_viewer = None  # Hacky hack hack\n",
    "    \n",
    "    # TODO: Need to generalize this method before moving it\n",
    "    #       to astrowidgets package.\n",
    "    def load_jwst_asdf(self, filename):\n",
    "        \"\"\"Load ASDF extension from JWST Level 2 data.\n",
    "\n",
    "        .. note::\n",
    "\n",
    "            This needs to use ``'astropy_ape14'`` WCS module in Ginga.\n",
    "            This also currently needs ``jwst`` pipeline to be installed.\n",
    "\n",
    "        Parameters\n",
    "        ----------\n",
    "        filename : str\n",
    "            Filename of JWST Level 2 file.\n",
    "            It is a FITS file with ASDF-in-FITS extension.\n",
    "\n",
    "        \"\"\"\n",
    "        import asdf\n",
    "\n",
    "        image = AstroImage(logger=self.logger)\n",
    "\n",
    "        with asdf.open(filename) as asdf_f:\n",
    "            asdf_f['wcs'] = asdf_f['meta']['wcs']\n",
    "            image.load_asdf(asdf_f, data_key='data')\n",
    "\n",
    "        self._viewer.set_image(image)\n",
    "        \n",
    "    def set_color_map(self, cmap):\n",
    "        \"\"\"Set colormap to the given colormap name.\n",
    "        \n",
    "        cmap : str\n",
    "            Colormap name.\n",
    "            \n",
    "        \"\"\"\n",
    "        self._viewer.set_color_map(cmap)\n",
    "        \n",
    "    # TODO: A hack until Matt Craig can get back to me about traitlets\n",
    "    def link_viewer(self, other_viewer):\n",
    "        self._other_viewer = other_viewer\n",
    "        \n",
    "    # Hacky hack hack\n",
    "    def _mouse_click_cb(self, viewer, event, data_x, data_y):\n",
    "        if isinstance(self._other_viewer, ImageWidget):\n",
    "            self._other_viewer._mouse_click_cb(self._other_viewer._viewer, event, data_x, data_y)\n",
    "            \n",
    "        super()._mouse_click_cb(self._viewer, event, data_x, data_y)"
   ]
  },
  {
   "cell_type": "markdown",
   "metadata": {},
   "source": [
    "With the ASDF stuff out of the way, we use the widget as intended now."
   ]
  },
  {
   "cell_type": "code",
   "execution_count": 181,
   "metadata": {},
   "outputs": [],
   "source": [
    "from ginga.misc.log import get_logger\n",
    "\n",
    "logger = get_logger('my viewer', log_stderr=True, log_file=None, level=30)"
   ]
  },
  {
   "cell_type": "code",
   "execution_count": 182,
   "metadata": {},
   "outputs": [],
   "source": [
    "w = ImageWidget(logger=logger)"
   ]
  },
  {
   "cell_type": "markdown",
   "metadata": {},
   "source": [
    "Input file can be downloaded from https://stsci.app.box.com/s/1jp2g3uau0cgo0eq9uan3clr5rxjytt9 . Ask Matteo Correnti for permission."
   ]
  },
  {
   "cell_type": "code",
   "execution_count": 183,
   "metadata": {},
   "outputs": [
    {
     "name": "stdout",
     "output_type": "stream",
     "text": [
      "INFO: using the unit electron/s passed to the FITS reader instead of the unit DN/s in the FITS file. [astropy.nddata.ccddata]\n"
     ]
    }
   ],
   "source": [
    "filename = 'V1069002001P000000000110n_A2_F200W_cal.fits'\n",
    "\n",
    "# NOTE: This does not work without JWST pipeline installed\n",
    "#       and pipeline cannot install on Windows.\n",
    "# https://github.com/spacetelescope/jwst/issues/3132\n",
    "# Loads the ASDF portion of the JWST Level 2 data.\n",
    "#w.load_jwst_asdf(filename)\n",
    "\n",
    "# Loads FITS portion of JWST Level 2 data.\n",
    "from astropy.nddata import CCDData\n",
    "numhdu = 1\n",
    "ccd = CCDData.read(filename, hdu=numhdu, format='fits', unit='electron/s')\n",
    "w.load_nddata(ccd)"
   ]
  },
  {
   "cell_type": "markdown",
   "metadata": {},
   "source": [
    "A viewer will be shown after running the next cell.\n",
    "In Jupyter Lab, you can split it out into a separate view by right-clicking on the viewer and then select\n",
    "\"Create New View for Output\". Then, you can drag the new\n",
    "\"Output View\" tab, say, to the right side of the workspace. Both viewers are connected to the same events.\n",
    "\n",
    "**NOTE:** There is a \"jumping\" bug when you mouse over the image display. It has been reported at https://github.com/mwcraig/ipyevents/issues/37"
   ]
  },
  {
   "cell_type": "code",
   "execution_count": 184,
   "metadata": {},
   "outputs": [
    {
     "data": {
      "application/vnd.jupyter.widget-view+json": {
       "model_id": "",
       "version_major": 2,
       "version_minor": 0
      },
      "text/plain": [
       "ImageWidget(children=(Image(value=b'\\xff\\xd8\\xff\\xe0\\x00\\x10JFIF\\x00\\x01\\x01\\x00\\x00\\x01\\x00\\x01\\x00\\x00\\xff\\x…"
      ]
     },
     "metadata": {},
     "output_type": "display_data"
    }
   ],
   "source": [
    "w"
   ]
  },
  {
   "cell_type": "markdown",
   "metadata": {},
   "source": [
    "This next cell captures print outputs. You can pop it out like the viewer above. It is very convenient for debugging purpose."
   ]
  },
  {
   "cell_type": "code",
   "execution_count": 185,
   "metadata": {},
   "outputs": [
    {
     "data": {
      "application/vnd.jupyter.widget-view+json": {
       "model_id": "",
       "version_major": 2,
       "version_minor": 0
      },
      "text/plain": [
       "Output()"
      ]
     },
     "metadata": {},
     "output_type": "display_data"
    }
   ],
   "source": [
    "# Capture print outputs from the widget\n",
    "display(w.print_out)"
   ]
  },
  {
   "cell_type": "code",
   "execution_count": 186,
   "metadata": {},
   "outputs": [
    {
     "name": "stdout",
     "output_type": "stream",
     "text": [
      "['linear', 'log', 'power', 'sqrt', 'squared', 'asinh', 'sinh', 'histeq']\n",
      "('minmax', 'median', 'histogram', 'stddev', 'zscale')\n"
     ]
    }
   ],
   "source": [
    "# This reminds me of the stretch and cuts options for visualization.\n",
    "print(w.stretch_options)\n",
    "print(w.autocut_options)"
   ]
  },
  {
   "cell_type": "code",
   "execution_count": 187,
   "metadata": {},
   "outputs": [],
   "source": [
    "# Change stretch, cut levels, and colormap.\n",
    "# Also see https://github.com/astropy/astrowidgets/issues/63\n",
    "w.stretch = 'sqrt'\n",
    "w.cuts = (0, 10)\n",
    "w.set_color_map('gray_r')"
   ]
  },
  {
   "cell_type": "code",
   "execution_count": 14,
   "metadata": {},
   "outputs": [
    {
     "name": "stdout",
     "output_type": "stream",
     "text": [
      "349\n",
      "x_peak y_peak peak_value     x_centroid          y_centroid     \n",
      "------ ------ ---------- ------------------ --------------------\n",
      "   665      4  361.93878   666.055243094477 -0.21515474934364764\n",
      "  1575      6  86.846886 1575.6256359372442    6.783013163073283\n",
      "  1831     14  211.34196 1830.9447410770383   14.404077728039052\n",
      "   398     17   110.0424  398.2843689338144    16.72563423949063\n",
      "  1325     18  96.866768   1325.21577828733   17.989053097051368\n",
      "  1652     25  76.919403 1650.9359909764003   60.914631483893785\n",
      "  1067     36    138.356  1066.988490517874   35.724792017163004\n",
      "  1213     42  439.62793  1213.260368681354   41.997141666629375\n",
      "   906     44   196.6805  906.2420413142759    43.73217206503919\n",
      "  1930     67  280.50177 1930.0050386886544    67.44105477601812\n"
     ]
    }
   ],
   "source": [
    "import warnings\n",
    "from photutils import find_peaks\n",
    "from photutils.centroids import centroid_2dg\n",
    "\n",
    "# Find the stars in the whole image.\n",
    "data = ccd.data\n",
    "with warnings.catch_warnings():\n",
    "    warnings.simplefilter('ignore')  # Ignore warning about fitting\n",
    "    peaks_tbl = find_peaks(data, threshold=75, box_size=75, centroid_func=centroid_2dg)\n",
    "peaks_tbl['peak_value'].info.format = '%.8g'\n",
    "\n",
    "print(len(peaks_tbl))\n",
    "print(peaks_tbl[:10])"
   ]
  },
  {
   "cell_type": "code",
   "execution_count": 40,
   "metadata": {},
   "outputs": [
    {
     "name": "stdout",
     "output_type": "stream",
     "text": [
      "Param names: ['coord', 'x', 'y', 'radius', 'linewidth', 'linestyle', 'color', 'alpha', 'fill', 'fillcolor', 'fillalpha', 'showcap']\n",
      "{'name': 'linestyle', 'type': <class 'str'>, 'default': 'solid', 'valid': ['solid', 'dash'], 'description': 'Style of outline (default solid)'}\n"
     ]
    }
   ],
   "source": [
    "# List Circle parameters for Ginga backend.\n",
    "# This is useful if you want to see how you can customize the circles.\n",
    "from ginga.canvas.types.basic import Circle\n",
    "\n",
    "circle_params = Circle.get_params_metadata()  # list of dict\n",
    "print('Param names:', [p['name'] for p in circle_params])\n",
    "\n",
    "key = 'linestyle'  # Replace with your param of interest\n",
    "print([p for p in circle_params if p['name'] == key][0])"
   ]
  },
  {
   "cell_type": "markdown",
   "metadata": {},
   "source": [
    "**Future Work:** Click to select/deselect markers. Also show how to \"derive parameters\" (e.g., FWHM?) for a selected marker."
   ]
  },
  {
   "cell_type": "code",
   "execution_count": 82,
   "metadata": {},
   "outputs": [],
   "source": [
    "# Set the marker parameters.\n",
    "# The parameters can be discovered using the previous cell.\n",
    "w.marker = {'color': 'blue', 'radius': 20, 'type': 'circle', 'alpha': 0.5, 'linewidth': 1.5}\n",
    "\n",
    "# Show the stars found on the image.\n",
    "w.add_markers(peaks_tbl, x_colname='x_peak', y_colname='y_peak')"
   ]
  },
  {
   "cell_type": "code",
   "execution_count": 21,
   "metadata": {},
   "outputs": [],
   "source": [
    "from astropy.stats import sigma_clipped_stats\n",
    "\n",
    "# Calculate background\n",
    "mean_val, median_val, std_val = sigma_clipped_stats(data, sigma=2., maxiters=None)"
   ]
  },
  {
   "cell_type": "code",
   "execution_count": 22,
   "metadata": {},
   "outputs": [],
   "source": [
    "# Simple background subtraction\n",
    "data_no_bg = data - median_val"
   ]
  },
  {
   "cell_type": "code",
   "execution_count": 23,
   "metadata": {},
   "outputs": [],
   "source": [
    "from astropy.nddata import NDData\n",
    "\n",
    "# Create NDData container to store data without background for the next step\n",
    "nddata = NDData(data=data_no_bg)"
   ]
  },
  {
   "cell_type": "code",
   "execution_count": 24,
   "metadata": {},
   "outputs": [],
   "source": [
    "from astropy.table import Table\n",
    "\n",
    "# This is required by photutils, which is weird.\n",
    "# Opened issue at https://github.com/astropy/photutils/issues/800\n",
    "stars_tbl = Table()\n",
    "stars_tbl['x'] = peaks_tbl['x_peak']\n",
    "stars_tbl['y'] = peaks_tbl['y_peak']"
   ]
  },
  {
   "cell_type": "code",
   "execution_count": 26,
   "metadata": {},
   "outputs": [],
   "source": [
    "from photutils.psf import extract_stars\n",
    "\n",
    "# Create 25x25 pixels cutout of found peaks.\n",
    "# NOTE: Stars too close to edge will be excluded with a warning, which we ignore.\n",
    "with warnings.catch_warnings():\n",
    "    warnings.simplefilter('ignore')\n",
    "    stars = extract_stars(nddata, stars_tbl, size=25)"
   ]
  },
  {
   "cell_type": "markdown",
   "metadata": {},
   "source": [
    "Create a new interactive display for cutout."
   ]
  },
  {
   "cell_type": "code",
   "execution_count": 188,
   "metadata": {},
   "outputs": [
    {
     "data": {
      "application/vnd.jupyter.widget-view+json": {
       "model_id": "",
       "version_major": 2,
       "version_minor": 0
      },
      "text/plain": [
       "ImageWidget(children=(Image(value=b'\\xff\\xd8\\xff\\xe0\\x00\\x10JFIF\\x00\\x01\\x01\\x00\\x00\\x01\\x00\\x01\\x00\\x00\\xff\\x…"
      ]
     },
     "metadata": {},
     "output_type": "display_data"
    }
   ],
   "source": [
    "w_cutout = ImageWidget(logger=logger)\n",
    "w_cutout"
   ]
  },
  {
   "cell_type": "code",
   "execution_count": 190,
   "metadata": {},
   "outputs": [],
   "source": [
    "w_cutout.stretch = 'linear'\n",
    "w_cutout.cuts = 'zscale'\n",
    "w_cutout.set_color_map('viridis')"
   ]
  },
  {
   "cell_type": "code",
   "execution_count": 44,
   "metadata": {},
   "outputs": [],
   "source": [
    "# These have to be global variables for button widgets below.\n",
    "i_star = 0\n",
    "cur_star = None"
   ]
  },
  {
   "cell_type": "code",
   "execution_count": 45,
   "metadata": {},
   "outputs": [],
   "source": [
    "# Function to display a given cutout by index\n",
    "def display_cutout():\n",
    "    global cur_star\n",
    "    cur_star = stars.all_good_stars[i_star]\n",
    "    w_cutout.load_array(cur_star.data)\n",
    "    \n",
    "    # Print in the cell that captures widget print-out above\n",
    "    with w.print_out:\n",
    "        print('Cutout', cur_star.id_label, cur_star.center)"
   ]
  },
  {
   "cell_type": "code",
   "execution_count": 46,
   "metadata": {},
   "outputs": [],
   "source": [
    "# Display the first cutout\n",
    "display_cutout()"
   ]
  },
  {
   "cell_type": "code",
   "execution_count": 47,
   "metadata": {},
   "outputs": [],
   "source": [
    "# Create empty list to store selected stars\n",
    "selected_stars = []"
   ]
  },
  {
   "cell_type": "markdown",
   "metadata": {},
   "source": [
    "Next, we create the buttons to enable interative selection of the stars based on displayed cutout. \"Next\" button cycles to the next cutout in the list, while \"Select\" adds the current cutout to `selected_stars`. Clicking \"Next\" without clicking \"Select\" first effectively excludes the displayed cutout from `selected_stars`.\n",
    "\n",
    "**Future work:** Enable starting the selection process at a given point in `stars.all_good_stars`. For this to work in a meaningful way, there also needs to be a way to save the state of `selected_stars` and load it back next time user re-runs the notebook."
   ]
  },
  {
   "cell_type": "code",
   "execution_count": 48,
   "metadata": {},
   "outputs": [
    {
     "data": {
      "application/vnd.jupyter.widget-view+json": {
       "model_id": "7f31665430544e639eebd0ab8d3a2b41",
       "version_major": 2,
       "version_minor": 0
      },
      "text/plain": [
       "HBox(children=(Button(description='Next', style=ButtonStyle()), Button(description='Select', style=ButtonStyle…"
      ]
     },
     "metadata": {},
     "output_type": "display_data"
    }
   ],
   "source": [
    "import ipywidgets\n",
    "from IPython.display import display\n",
    "\n",
    "next_btn = ipywidgets.widgets.Button(description=\"Next\")\n",
    "sel_star_btn = ipywidgets.widgets.Button(description=\"Select\")\n",
    "display(ipywidgets.HBox([next_btn, sel_star_btn]))\n",
    "\n",
    "\n",
    "def next_star_cb(b):\n",
    "    \"\"\"Display next star in the cutout list.\"\"\"\n",
    "    global i_star\n",
    "    i_star += 1\n",
    "    display_cutout()\n",
    "    \n",
    "    \n",
    "def select_star_cb(b):\n",
    "    \"\"\"Add the displayed star to the selected list.\n",
    "    This will stay at the displayed star until Next is clicked.\"\"\"\n",
    "    global selected_stars\n",
    "    selected_stars.append(cur_star)\n",
    "    \n",
    "    \n",
    "next_btn.on_click(next_star_cb)\n",
    "sel_star_btn.on_click(select_star_cb)"
   ]
  },
  {
   "cell_type": "markdown",
   "metadata": {},
   "source": [
    "Before running this next cell, make sure `selected_stars` are done being populated using the interactive selection tool above."
   ]
  },
  {
   "cell_type": "code",
   "execution_count": 49,
   "metadata": {},
   "outputs": [
    {
     "name": "stdout",
     "output_type": "stream",
     "text": [
      "Selected 28 stars\n",
      "First 10 selected stars:\n",
      "4 [398.  17.]\n",
      "5 [1325.   18.]\n",
      "7 [1067.   36.]\n",
      "9 [906.  44.]\n",
      "10 [1930.   67.]\n",
      "11 [520.  72.]\n",
      "12 [817.  73.]\n",
      "18 [1270.   89.]\n",
      "20 [116. 106.]\n",
      "21 [304. 130.]\n"
     ]
    }
   ],
   "source": [
    "from photutils.psf.epsf_stars import EPSFStars\n",
    "selected_stars = EPSFStars(selected_stars)\n",
    "\n",
    "print('Selected {} stars'.format(len(selected_stars)))\n",
    "print('First 10 selected stars:')\n",
    "for s in selected_stars[:10]:\n",
    "    print(s.id_label, s.center)"
   ]
  },
  {
   "cell_type": "code",
   "execution_count": 50,
   "metadata": {},
   "outputs": [],
   "source": [
    "from photutils import EPSFBuilder\n",
    "\n",
    "# Build the PSF\n",
    "epsf_builder = EPSFBuilder(oversampling=4, maxiters=3,\n",
    "                           progress_bar=False)\n",
    "epsf, fitted_stars = epsf_builder(selected_stars)"
   ]
  },
  {
   "cell_type": "markdown",
   "metadata": {},
   "source": [
    "We now display the resulting PSF in the same viewer we used for cutout."
   ]
  },
  {
   "cell_type": "code",
   "execution_count": 86,
   "metadata": {},
   "outputs": [],
   "source": [
    "w_cutout.load_array(epsf.data)"
   ]
  },
  {
   "cell_type": "markdown",
   "metadata": {},
   "source": [
    "Now, perform PSF photometry if the PSF above is satisfactory. If not, repeat the cutout selection step."
   ]
  },
  {
   "cell_type": "code",
   "execution_count": 52,
   "metadata": {},
   "outputs": [],
   "source": [
    "from photutils.detection import DAOStarFinder, IRAFStarFinder\n",
    "from photutils.psf import DAOGroup\n",
    "from photutils.psf import IntegratedGaussianPRF\n",
    "from photutils.background import MMMBackground\n",
    "from photutils.background import MADStdBackgroundRMS\n",
    "from astropy.modeling.fitting import LevMarLSQFitter\n",
    "from astropy.stats import gaussian_sigma_to_fwhm\n",
    "\n",
    "sigma_psf = 1.25\n",
    "\n",
    "bkgrms = MADStdBackgroundRMS()\n",
    "\n",
    "std = bkgrms(data)\n",
    "\n",
    "iraffind = IRAFStarFinder(threshold=10*std,\n",
    "                          fwhm=sigma_psf*gaussian_sigma_to_fwhm,\n",
    "                          minsep_fwhm=0.01, roundhi=1.0, roundlo=-1.0,\n",
    "                          sharplo=0.30, sharphi=1.40)\n",
    "\n",
    "daogroup = DAOGroup(2.0 * sigma_psf * gaussian_sigma_to_fwhm)\n",
    "\n",
    "mmm_bkg = MMMBackground()\n",
    "\n",
    "psf_model = epsf.copy()\n",
    "\n",
    "fitter = LevMarLSQFitter()"
   ]
  },
  {
   "cell_type": "code",
   "execution_count": 53,
   "metadata": {},
   "outputs": [],
   "source": [
    "# Use a sub-image here to speed things up during prototyping.\n",
    "# In real world, whole image would be used.\n",
    "data1 = data[0:200, 0:200]"
   ]
  },
  {
   "cell_type": "code",
   "execution_count": 57,
   "metadata": {},
   "outputs": [],
   "source": [
    "from photutils.psf import IterativelySubtractedPSFPhotometry\n",
    "\n",
    "with warnings.catch_warnings():\n",
    "    warnings.simplefilter('ignore')  # Ignore fitting warnings\n",
    "    photometry = IterativelySubtractedPSFPhotometry(\n",
    "        finder=iraffind, group_maker=daogroup,\n",
    "        bkg_estimator=mmm_bkg, psf_model=psf_model,\n",
    "        fitter=LevMarLSQFitter(),\n",
    "        niters=2, fitshape=(11, 11), aperture_radius=5)\n",
    "    result_tab = photometry(data1)\n",
    "    residual_image = photometry.get_residual_image()"
   ]
  },
  {
   "cell_type": "code",
   "execution_count": 196,
   "metadata": {},
   "outputs": [
    {
     "name": "stdout",
     "output_type": "stream",
     "text": [
      "Median residual: -0.0038\n",
      "Biweight location: -0.0020\n"
     ]
    }
   ],
   "source": [
    "import numpy as np\n",
    "from astropy.stats import biweight_location\n",
    "\n",
    "# Print some stats from residual image.\n",
    "print('Median residual: {:.4f}'.format(np.median(residual_image)))\n",
    "print('Biweight location: {:.4f}'.format(biweight_location(residual_image)))"
   ]
  },
  {
   "cell_type": "markdown",
   "metadata": {},
   "source": [
    "Now, we re-purpose the display that was displaying the whole image to display `data1` and the one that was displaying cutout to display its residual after PSF subtraction."
   ]
  },
  {
   "cell_type": "code",
   "execution_count": 87,
   "metadata": {},
   "outputs": [],
   "source": [
    "# Un-circle the stars found.\n",
    "w.reset_markers()"
   ]
  },
  {
   "cell_type": "code",
   "execution_count": 189,
   "metadata": {},
   "outputs": [],
   "source": [
    "w.load_array(data1)\n",
    "w_cutout.load_array(residual_image)"
   ]
  },
  {
   "cell_type": "markdown",
   "metadata": {},
   "source": [
    "Now we \"lock\" the two displays at pixel level. The way this is currently done, you have to click on the viewer of `data1` so it pans to the pixel you clicked on. The viewer for `residual_image` will automatically follow.\n",
    "\n",
    "**TODO:** Need to link them properly using `traitlets`. Will need to consult Matt Craig about this. Want to link on zoom and pan.\n",
    "\n",
    "**Future Work:** Add a third viewer to display uncertainties and link it the same way."
   ]
  },
  {
   "cell_type": "code",
   "execution_count": 193,
   "metadata": {},
   "outputs": [],
   "source": [
    "w.link_viewer(w_cutout)\n",
    "w.click_center = True\n",
    "w_cutout.click_center = True"
   ]
  },
  {
   "cell_type": "markdown",
   "metadata": {},
   "source": [
    "If the residual image is not satisfactory, repeat the analysis steps above as needed."
   ]
  },
  {
   "cell_type": "code",
   "execution_count": 197,
   "metadata": {},
   "outputs": [
    {
     "data": {
      "text/html": [
       "<i>Table masked=True length=123</i>\n",
       "<table id=\"table2123866329664\" class=\"table-striped table-bordered table-condensed\">\n",
       "<thead><tr><th>x_0</th><th>x_fit</th><th>y_0</th><th>y_fit</th><th>flux_0</th><th>flux_fit</th><th>id</th><th>group_id</th><th>flux_unc</th><th>x_0_unc</th><th>y_0_unc</th><th>iter_detected</th></tr></thead>\n",
       "<thead><tr><th>float64</th><th>float64</th><th>float64</th><th>float64</th><th>float64</th><th>float64</th><th>int32</th><th>int32</th><th>float64</th><th>float64</th><th>float64</th><th>int32</th></tr></thead>\n",
       "<tr><td>41.9958553565839</td><td>41.7915352391071</td><td>4.33512111445422</td><td>4.422016749583286</td><td>3.9495902382608</td><td>123.78431030003614</td><td>1</td><td>1</td><td>9.98918372386569</td><td>0.11266952675741267</td><td>0.09704003036088321</td><td>1</td></tr>\n",
       "<tr><td>79.0900593026507</td><td>77.43278817969596</td><td>4.663149121765862</td><td>2.5965934629220038</td><td>-7.889413969405278</td><td>-103.50157679114186</td><td>1</td><td>1</td><td>31.569991288316377</td><td>0.2511500401227103</td><td>0.2658074440725549</td><td>2</td></tr>\n",
       "<tr><td>101.34167438524037</td><td>97.38984155153547</td><td>26.809216327617822</td><td>35.593678517332215</td><td>-16.481938575021584</td><td>-1449.1655843802982</td><td>2</td><td>2</td><td>118.57041780067934</td><td>118.57041780067934</td><td>118.57041780067934</td><td>2</td></tr>\n",
       "<tr><td>74.60089299488602</td><td>74.39931066228506</td><td>4.250560972956118</td><td>4.4644971271171485</td><td>59.9048150716688</td><td>336.9604560735015</td><td>2</td><td>2</td><td>123.78431030003614</td><td>123.78431030003614</td><td>123.78431030003614</td><td>1</td></tr>\n",
       "<tr><td>79.47439950199403</td><td>79.91537442048092</td><td>4.3416843115536015</td><td>4.708442939739389</td><td>64.02527322180956</td><td>409.8357942462628</td><td>3</td><td>2</td><td>41.7915352391071</td><td>41.7915352391071</td><td>41.7915352391071</td><td>1</td></tr>\n",
       "<tr><td>97.67307621096161</td><td>118.57041780067934</td><td>28.01869933222206</td><td>27.47805022962194</td><td>-19.13305166917766</td><td>137.45999841958428</td><td>3</td><td>2</td><td>137.45999841958428</td><td>137.45999841958428</td><td>137.45999841958428</td><td>2</td></tr>\n",
       "<tr><td>111.19987676335725</td><td>111.28223985549357</td><td>4.295625666317926</td><td>4.366394905877891</td><td>26.733915725228496</td><td>626.9667684816151</td><td>4</td><td>3</td><td>32.06694381625996</td><td>0.0773041678537691</td><td>0.0656818659989552</td><td>1</td></tr>\n",
       "<tr><td>34.48571177751445</td><td>35.515730298474026</td><td>46.83396308549639</td><td>49.11116458942104</td><td>-11.055857388272383</td><td>-56.34911656604048</td><td>4</td><td>3</td><td>27.94375412836814</td><td>0.5542108872073624</td><td>0.7255204476519331</td><td>2</td></tr>\n",
       "<tr><td>77.20640000654318</td><td>77.21887649460652</td><td>4.984939990560829</td><td>5.087390567902911</td><td>73.96969210701036</td><td>794.4296644753246</td><td>5</td><td>2</td><td>4.422016749583286</td><td>4.422016749583286</td><td>4.422016749583286</td><td>1</td></tr>\n",
       "<tr><td>109.60091209428916</td><td>106.42290282420548</td><td>99.9981644187566</td><td>96.72330329117267</td><td>6.046251882400084</td><td>53.66283105040534</td><td>5</td><td>4</td><td>780.8533947866915</td><td>780.8533947866915</td><td>780.8533947866915</td><td>2</td></tr>\n",
       "<tr><td>...</td><td>...</td><td>...</td><td>...</td><td>...</td><td>...</td><td>...</td><td>...</td><td>...</td><td>...</td><td>...</td><td>...</td></tr>\n",
       "<tr><td>98.99927348406455</td><td>98.8390352918091</td><td>179.92858328047177</td><td>179.8329132561051</td><td>8.226682046430408</td><td>167.2865665805173</td><td>93</td><td>84</td><td>8.975315756772487</td><td>0.06433968434521321</td><td>0.06495711183198001</td><td>1</td></tr>\n",
       "<tr><td>157.7017933920409</td><td>157.56006144287952</td><td>185.35818588945665</td><td>185.57739535478294</td><td>15.188180144263459</td><td>249.6458530649022</td><td>94</td><td>85</td><td>21.47131291749958</td><td>0.06769713812680611</td><td>0.07358692321004844</td><td>1</td></tr>\n",
       "<tr><td>34.719299349955676</td><td>34.603587732503094</td><td>186.0563146139696</td><td>186.2700458262776</td><td>16.67520953777669</td><td>198.40444928064497</td><td>95</td><td>86</td><td>10.595455627001947</td><td>0.05432991122078193</td><td>0.0741461640589745</td><td>1</td></tr>\n",
       "<tr><td>46.34295564527786</td><td>46.505227654849264</td><td>187.65275362062604</td><td>187.62799418919047</td><td>9.087886945398955</td><td>166.3311157803171</td><td>96</td><td>87</td><td>9.216780403582305</td><td>0.04388526061001474</td><td>0.0495613418927234</td><td>1</td></tr>\n",
       "<tr><td>153.03121247778836</td><td>152.99812511947763</td><td>189.35862608417378</td><td>189.55801221546972</td><td>12.537486935378121</td><td>214.73643200508525</td><td>97</td><td>88</td><td>10.05317224519964</td><td>0.06483062702476695</td><td>0.05491458420475033</td><td>1</td></tr>\n",
       "<tr><td>104.82644851021828</td><td>104.76615157162207</td><td>192.67786631765838</td><td>192.69869161635873</td><td>7.781399593436145</td><td>165.8015860304332</td><td>98</td><td>89</td><td>6.222104808400162</td><td>0.055243708651791</td><td>0.04644279330012594</td><td>1</td></tr>\n",
       "<tr><td>32.28028319430105</td><td>11.043951404110807</td><td>195.4461747921691</td><td>194.2648951400386</td><td>275.386917459456</td><td>465.34110151868936</td><td>99</td><td>90</td><td>0.0</td><td>0.0</td><td>0.0</td><td>1</td></tr>\n",
       "<tr><td>162.3960199724782</td><td>162.4155508556012</td><td>196.32288730868245</td><td>196.5610907236338</td><td>9.504980594499095</td><td>158.30091561970156</td><td>100</td><td>91</td><td>10.508292652011752</td><td>0.055295375618031155</td><td>0.05776527123721168</td><td>1</td></tr>\n",
       "<tr><td>29.238728863096526</td><td>29.282624572179</td><td>196.97229451469937</td><td>197.03253455193604</td><td>307.62102856276977</td><td>5616.215486832937</td><td>101</td><td>90</td><td>5616.199140224807</td><td>5616.199140224807</td><td>5616.199140224807</td><td>1</td></tr>\n",
       "<tr><td>188.98312844899692</td><td>188.88843970551028</td><td>197.16279123092988</td><td>197.29302160922003</td><td>26.841715674778847</td><td>567.2705857580248</td><td>102</td><td>92</td><td>10.019926459014147</td><td>0.023176568301935818</td><td>0.024624172770892107</td><td>1</td></tr>\n",
       "</table>"
      ],
      "text/plain": [
       "<Table masked=True length=123>\n",
       "       x_0               x_fit        ...       y_0_unc        iter_detected\n",
       "     float64            float64       ...       float64            int32    \n",
       "------------------ ------------------ ... -------------------- -------------\n",
       "  41.9958553565839   41.7915352391071 ...  0.09704003036088321             1\n",
       "  79.0900593026507  77.43278817969596 ...   0.2658074440725549             2\n",
       "101.34167438524037  97.38984155153547 ...   118.57041780067934             2\n",
       " 74.60089299488602  74.39931066228506 ...   123.78431030003614             1\n",
       " 79.47439950199403  79.91537442048092 ...     41.7915352391071             1\n",
       " 97.67307621096161 118.57041780067934 ...   137.45999841958428             2\n",
       "111.19987676335725 111.28223985549357 ...   0.0656818659989552             1\n",
       " 34.48571177751445 35.515730298474026 ...   0.7255204476519331             2\n",
       " 77.20640000654318  77.21887649460652 ...    4.422016749583286             1\n",
       "109.60091209428916 106.42290282420548 ...    780.8533947866915             2\n",
       "               ...                ... ...                  ...           ...\n",
       " 98.99927348406455   98.8390352918091 ...  0.06495711183198001             1\n",
       " 157.7017933920409 157.56006144287952 ...  0.07358692321004844             1\n",
       "34.719299349955676 34.603587732503094 ...   0.0741461640589745             1\n",
       " 46.34295564527786 46.505227654849264 ...   0.0495613418927234             1\n",
       "153.03121247778836 152.99812511947763 ...  0.05491458420475033             1\n",
       "104.82644851021828 104.76615157162207 ...  0.04644279330012594             1\n",
       " 32.28028319430105 11.043951404110807 ...                  0.0             1\n",
       " 162.3960199724782  162.4155508556012 ...  0.05776527123721168             1\n",
       "29.238728863096526    29.282624572179 ...    5616.199140224807             1\n",
       "188.98312844899692 188.88843970551028 ... 0.024624172770892107             1"
      ]
     },
     "execution_count": 197,
     "metadata": {},
     "output_type": "execute_result"
    }
   ],
   "source": [
    "# PSF photometry result using sub-image.\n",
    "result_tab.sort('id')\n",
    "result_tab"
   ]
  },
  {
   "cell_type": "code",
   "execution_count": 198,
   "metadata": {},
   "outputs": [
    {
     "name": "stdout",
     "output_type": "stream",
     "text": [
      "['x_0', 'x_fit', 'y_0', 'y_fit', 'flux_0', 'flux_fit', 'id', 'group_id', 'flux_unc', 'x_0_unc', 'y_0_unc', 'iter_detected']\n"
     ]
    }
   ],
   "source": [
    "print(result_tab.colnames)"
   ]
  },
  {
   "cell_type": "markdown",
   "metadata": {},
   "source": [
    "**Future Work:** Repeat this for a second filter of the same field. Use photometry results from both filters to build a color-magnitude diagram (CMD)."
   ]
  }
 ],
 "metadata": {
  "kernelspec": {
   "display_name": "Python 3",
   "language": "python",
   "name": "python3"
  },
  "language_info": {
   "codemirror_mode": {
    "name": "ipython",
    "version": 3
   },
   "file_extension": ".py",
   "mimetype": "text/x-python",
   "name": "python",
   "nbconvert_exporter": "python",
   "pygments_lexer": "ipython3",
   "version": "3.7.1"
  }
 },
 "nbformat": 4,
 "nbformat_minor": 2
}
