{
 "cells": [
  {
   "cell_type": "markdown",
   "metadata": {},
   "source": [
    "# MOS Extragalactic Science Usecase\n",
    "(Susan Kassin, Iva Momcheva, Sara Ogaz)\n",
    "\n",
    "## Outline\n",
    "\n",
    "For a given galaxy (let's say there are ~100 of them)\n",
    "\n",
    "\n",
    "1. Inspect cut-out 2D spectra (reduced)\n",
    "    * play with contrast\n",
    "    * zoom in/out\n",
    "2. Inpsect 2D spectra on full detection image (not reduced)\n",
    "3. Inspect cut-out image (made from other image data of object)\n",
    "    * Should making the cutout be part of this?\n",
    "    * place position angle (PA) slits on image\n",
    "    * play with contrast\n",
    "    * zoom in/out\n",
    "4. Co-add selected 2D cut-out spectra and plot/inspect\n",
    "    * Shift and co-add to get right alignment (cross-correlate). Gloss over this step for this notebook\n",
    "5. Examine morhphology of emission lines and compare to image.\n",
    "    * align image such that slit is vertical\n",
    "\n",
    "Example Question: Do star-forming clumps in galaxies show up in the emission lines?\n",
    "\n",
    "### Notes\n",
    "* Test steps 1-3, and 5 in ginga.\n",
    "* Test step 3 using glue as well (Didn't get around to this). Placing slits on image may be challenging. Will try using astrowidgets for ginga (new/under **HEAVY DEV**).\n",
    "* (Didn't end up using this) Install for astrowidgets is \"pip install git+git://github.com/astropy/astrowidgets.git@master\". For an example notebook on this astrowidgets see here: https://github.com/astropy/astrowidgets/blob/master/example_notebooks/ginga_widget.ipynb\n",
    "\n",
    "* Install list: ginga\n",
    "\n",
    "### Conclusions\n",
    "\n",
    "* Not satisfied with current documentation for using ginga in a jupyter notebook. Even our team had trouble figuring out the right way to do this, and ended up using the server ginga approach, which has the ginga windows pop up in a new tab (not desired). Was not clear how to have ginga show up inside the notebook. Although this is essentially what astropywidgets is doing(wrappers around ginga for the notebook).\n",
    "\n",
    "* Inline ginga window buggy, when you mouse on and then off the image, the notebook jumps down.\n",
    "\n",
    "* A width=1000, height=120 in the glue inline did not pan very well, was slow to respond (on Sara's machine).\n",
    "\n",
    "* Pey Lian was (sort of) able to get ginga to match coordinates between frames for panning.\n",
    "\n",
    "* Would like to do image display maniputation with sliders etc."
   ]
  },
  {
   "cell_type": "markdown",
   "metadata": {},
   "source": [
    "### Made cutout in separate notebook, but here's the summary"
   ]
  },
  {
   "cell_type": "code",
   "execution_count": null,
   "metadata": {},
   "outputs": [],
   "source": [
    "import astropy\n",
    "from astropy.io import fits\n",
    "\n",
    "image = fits.open('sxdsz2c_dr1.fits')\n",
    "image_wcs = astropy.wcs.WCS(header = image[0].header)\n",
    "\n",
    "pos = astropy.coordinates.SkyCoord([\"02:18:09.440 -04:45:12.24\"], frame=FK5, unit=(u.hourangle, u.deg))\n",
    "\n",
    "cutout = astropy.nddata.utils.Cutout2D(image[0].data, pos, size=(1000,1000),wcs=image_wcs)\n",
    "\n",
    "plt.imshow(cutout.data)\n",
    "plt.show()\n",
    "\n",
    "cutout_header = cutout.wcs.to_header()\n",
    "hdu = fits.PrimaryHDU(cutout.data,header = cutout_header)\n",
    "\n",
    "hdu.writeto('SXDSN-19813_cutout.fits')"
   ]
  },
  {
   "cell_type": "markdown",
   "metadata": {},
   "source": [
    "# Ginga"
   ]
  },
  {
   "cell_type": "markdown",
   "metadata": {},
   "source": [
    "## Setup ginga instances, one for cutout image, one for s2D file"
   ]
  },
  {
   "cell_type": "code",
   "execution_count": 1,
   "metadata": {},
   "outputs": [],
   "source": [
    "import astropy\n",
    "from astropy.io import fits"
   ]
  },
  {
   "cell_type": "code",
   "execution_count": 2,
   "metadata": {},
   "outputs": [],
   "source": [
    "# Ginga setup instructions taken from https://gist.github.com/ejeschke/6067409\n",
    "from ginga.web.pgw import ipg\n",
    "# Set this to True if you have a non-buggy python OpenCv bindings--it greatly speeds up some operations\n",
    "use_opencv = False\n",
    "\n",
    "server = ipg.make_server(host='localhost', port=9914, use_opencv=use_opencv)"
   ]
  },
  {
   "cell_type": "code",
   "execution_count": 3,
   "metadata": {},
   "outputs": [],
   "source": [
    "# Start viewer server\n",
    "# IMPORTANT: if running in an IPython/Jupyter notebook, use the no_ioloop=True option\n",
    "server.start(no_ioloop=True)"
   ]
  },
  {
   "cell_type": "code",
   "execution_count": 4,
   "metadata": {},
   "outputs": [],
   "source": [
    "# Get a viewer\n",
    "# This will get a handle to the viewer v1 = server.get_viewer('v1')\n",
    "cutout = server.get_viewer('cutout')"
   ]
  },
  {
   "cell_type": "code",
   "execution_count": 5,
   "metadata": {},
   "outputs": [],
   "source": [
    "# Get a viewer\n",
    "# This will get a handle to the viewer v1 = server.get_viewer('v1')\n",
    "s2d = server.get_viewer('s2d')"
   ]
  },
  {
   "cell_type": "code",
   "execution_count": 6,
   "metadata": {},
   "outputs": [
    {
     "data": {
      "text/plain": [
       "'http://localhost:9914/app?id=cutout'"
      ]
     },
     "execution_count": 6,
     "metadata": {},
     "output_type": "execute_result"
    }
   ],
   "source": [
    "# where is my viewer\n",
    "cutout.url"
   ]
  },
  {
   "cell_type": "code",
   "execution_count": 7,
   "metadata": {},
   "outputs": [],
   "source": [
    "# open the viewers in a new window\n",
    "cutout.open()\n",
    "s2d.open()"
   ]
  },
  {
   "cell_type": "markdown",
   "metadata": {},
   "source": [
    "## Load images into ginga windows"
   ]
  },
  {
   "cell_type": "code",
   "execution_count": 8,
   "metadata": {},
   "outputs": [],
   "source": [
    "# Load an image into the viewer\n",
    "# (change the path to where you downloaded the sample images, or use your own)\n",
    "cutout.load('SXDSN-19813_cutout.fits')"
   ]
  },
  {
   "cell_type": "code",
   "execution_count": 3,
   "metadata": {},
   "outputs": [],
   "source": [
    "hdulist = fits.open(\"ift0043_2spec.fits\")\n",
    "s2d_hdu = hdulist[11]\n",
    "#s2d.load_hdu(s2d_hdu)"
   ]
  },
  {
   "cell_type": "code",
   "execution_count": 10,
   "metadata": {},
   "outputs": [],
   "source": [
    "# Scale example (can do it programtically, not sure if there's a keyboard shortcut)\n",
    "s2d.set_autocut_params('zscale', contrast=0.90)\n",
    "\n",
    "# Or, go to active plot window, press space bar, then press \"t\".  Was not clearly documented on this.\n",
    "\n",
    "# Zoom example\n",
    "# plus / negative key\n",
    "\n",
    "# Move around image\n",
    "# on track pad, use both fingers"
   ]
  },
  {
   "cell_type": "markdown",
   "metadata": {},
   "source": [
    "## Overplot slit"
   ]
  },
  {
   "cell_type": "code",
   "execution_count": 11,
   "metadata": {},
   "outputs": [],
   "source": [
    "# Overplot slit\n",
    "canvas=cutout.add_canvas()\n",
    "Box = canvas.get_draw_class('box')"
   ]
  },
  {
   "cell_type": "code",
   "execution_count": 12,
   "metadata": {},
   "outputs": [
    {
     "data": {
      "text/plain": [
       "'@1'"
      ]
     },
     "execution_count": 12,
     "metadata": {},
     "output_type": "execute_result"
    }
   ],
   "source": [
    "# Assume we have slit center, x and y sizes in pixels, and poistion (rotation angle)\n",
    "# This is glossing over a potentially large effor part of this workflow.\n",
    "canvas.add(Box(x=500, y=500, xradius=4, yradius=34, rot_deg=30, color='yellow'))"
   ]
  },
  {
   "cell_type": "markdown",
   "metadata": {},
   "source": [
    "# Ginga inline"
   ]
  },
  {
   "cell_type": "markdown",
   "metadata": {},
   "source": [
    "### Scale keyboard shortcut\n",
    "Or, go to active plot window, press space bar, then press \"t\".  Was not clearly documented on this.\n",
    "\n",
    "### Zoom keyboard shortcut\n",
    "plus / negative key\n",
    "\n",
    "### Move keyboard shortcut\n",
    "on track pad, use both fingers"
   ]
  },
  {
   "cell_type": "code",
   "execution_count": 4,
   "metadata": {},
   "outputs": [],
   "source": [
    "import ipywidgets\n",
    "import ginga\n",
    "from ginga.web.jupyterw.ImageViewJpw import EnhancedCanvasView"
   ]
  },
  {
   "cell_type": "code",
   "execution_count": 22,
   "metadata": {},
   "outputs": [
    {
     "data": {
      "application/vnd.jupyter.widget-view+json": {
       "model_id": "ceef17d1f8134a818d280a7e6f1a8955",
       "version_major": 2,
       "version_minor": 0
      },
      "text/plain": [
       "VBox(children=(Image(value=b'', format='jpeg', height='100', width='800'), Image(value=b'', format='jpeg', hei…"
      ]
     },
     "metadata": {},
     "output_type": "display_data"
    }
   ],
   "source": [
    "# Setup ginga display for multiple s2D images.\n",
    "\n",
    "imgs = [ipywidgets.Image(format='jpeg', width=800, height=100) for i in range(3)]\n",
    "\n",
    "vs=[]\n",
    "hdus = [fits.open(\"ift0043_2spec.fits\")[11].data[0], fits.open(\"ift0045_2spec.fits\")[11].data[0], \n",
    "        fits.open(\"ift0048_2spec.fits\")[11].data[0]]\n",
    "for i, im in enumerate(imgs):\n",
    "    v = EnhancedCanvasView()\n",
    "    v.set_widget(im)\n",
    "    v.get_bindings().enable_all(True)\n",
    "    v.set_cmap(ginga.cmap.get_cmap('viridis'))\n",
    "    v.load_data(hdus[i])\n",
    "    v.set_scale_limits(0,1)\n",
    "    vs.append(v)\n",
    "    \n",
    "\n",
    "box = ipywidgets.VBox(imgs)\n",
    "box"
   ]
  },
  {
   "cell_type": "code",
   "execution_count": 26,
   "metadata": {},
   "outputs": [
    {
     "data": {
      "application/vnd.jupyter.widget-view+json": {
       "model_id": "4f91f1e90536444e946a3c0976048acc",
       "version_major": 2,
       "version_minor": 0
      },
      "text/plain": [
       "Image(value=b'\\xff\\xd8\\xff\\xe0\\x00\\x10JFIF\\x00\\x01\\x01\\x00\\x00\\x01\\x00\\x01\\x00\\x00\\xff\\xdb\\x00C\\x00\\x03\\x02\\x0…"
      ]
     },
     "metadata": {},
     "output_type": "display_data"
    }
   ],
   "source": [
    "# Setup single \n",
    "img2 = ipywidgets.Image(format='jpeg', width=500, height=500)\n",
    "\n",
    "v2 = EnhancedCanvasView()\n",
    "v2.set_widget(img2)\n",
    "v2.get_bindings().enable_all(True)\n",
    "\n",
    "#v1.set_cmap(ginga.cmap.get_cmap('viridis'))\n",
    "\n",
    "#v1.load_data(d.data)\n",
    "#v1.zoom_to(5)\n",
    "#v1.load_hdu(s2d_hdu)\n",
    "cut = fits.open(\"SXDSN-19813_cutout.fits\")\n",
    "v2.load_data(cut[0].data)\n",
    "\n",
    "img2"
   ]
  },
  {
   "cell_type": "code",
   "execution_count": 27,
   "metadata": {},
   "outputs": [],
   "source": [
    "# Overplot slit\n",
    "canvas=v2.add_canvas()\n",
    "Box = canvas.get_draw_class('box')"
   ]
  },
  {
   "cell_type": "code",
   "execution_count": 28,
   "metadata": {},
   "outputs": [
    {
     "data": {
      "text/plain": [
       "'@1'"
      ]
     },
     "execution_count": 28,
     "metadata": {},
     "output_type": "execute_result"
    }
   ],
   "source": [
    "# Assume we have slit center, x and y sizes in pixels, and poistion (rotation angle)\n",
    "# This is glossing over a potentially large effor part of this workflow.\n",
    "canvas.add(Box(x=500, y=500, xradius=4, yradius=34, rot_deg=30, color='yellow'))"
   ]
  },
  {
   "cell_type": "code",
   "execution_count": null,
   "metadata": {},
   "outputs": [],
   "source": []
  },
  {
   "cell_type": "code",
   "execution_count": null,
   "metadata": {},
   "outputs": [],
   "source": []
  }
 ],
 "metadata": {
  "kernelspec": {
   "display_name": "Python 3",
   "language": "python",
   "name": "python3"
  },
  "language_info": {
   "codemirror_mode": {
    "name": "ipython",
    "version": 3
   },
   "file_extension": ".py",
   "mimetype": "text/x-python",
   "name": "python",
   "nbconvert_exporter": "python",
   "pygments_lexer": "ipython3",
   "version": "3.7.2"
  }
 },
 "nbformat": 4,
 "nbformat_minor": 2
}
